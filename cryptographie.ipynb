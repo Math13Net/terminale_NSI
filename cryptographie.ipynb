{
 "cells": [
  {
   "cell_type": "markdown",
   "id": "49316ee1",
   "metadata": {},
   "source": [
    "# Cryptographie"
   ]
  },
  {
   "cell_type": "markdown",
   "id": "7264a47e",
   "metadata": {},
   "source": [
    "## ex de démarrage"
   ]
  },
  {
   "cell_type": "code",
   "execution_count": 1,
   "id": "88b61515",
   "metadata": {},
   "outputs": [],
   "source": [
    "def dictionnaire_vide():\n",
    "    return {}"
   ]
  },
  {
   "cell_type": "code",
   "execution_count": 3,
   "id": "c0253efa",
   "metadata": {},
   "outputs": [
    {
     "name": "stdout",
     "output_type": "stream",
     "text": [
      "{} <class 'dict'>\n"
     ]
    }
   ],
   "source": [
    "dico = dictionnaire_vide()\n",
    "print(dico, type(dico))"
   ]
  },
  {
   "cell_type": "code",
   "execution_count": 4,
   "id": "d1f54d56",
   "metadata": {},
   "outputs": [
    {
     "name": "stdout",
     "output_type": "stream",
     "text": [
      "{'a': 'B'}\n"
     ]
    }
   ],
   "source": [
    "dico['a']='B'\n",
    "print(dico)"
   ]
  },
  {
   "cell_type": "code",
   "execution_count": 5,
   "id": "ccc6d4dc",
   "metadata": {},
   "outputs": [
    {
     "name": "stdout",
     "output_type": "stream",
     "text": [
      "ABC\n"
     ]
    }
   ],
   "source": [
    "dictionnaire = {'a':'B', 'b':'A'}\n",
    "print(dictionnaire.get('b','B') + dictionnaire.get('a','A') + dictionnaire.get('c','C'))"
   ]
  },
  {
   "cell_type": "code",
   "execution_count": 9,
   "id": "a6bfef36",
   "metadata": {},
   "outputs": [
    {
     "name": "stdout",
     "output_type": "stream",
     "text": [
      "[(12.1, 'A'), (7.3, 'C'), (4.5, 'B')]\n"
     ]
    }
   ],
   "source": [
    "dictionnaire = {'A':12.1, 'B':4.5, 'C':7.3}\n",
    "liste = []\n",
    "for lettre, frequence in dictionnaire.items():\n",
    "    liste.append((frequence, lettre))\n",
    "print(sorted(liste, reverse = True))"
   ]
  },
  {
   "cell_type": "code",
   "execution_count": 12,
   "id": "f66da695",
   "metadata": {},
   "outputs": [
    {
     "name": "stdout",
     "output_type": "stream",
     "text": [
      "65\n",
      "A\n",
      "A,B,C,D,E,F,G,H,I,J,K,L,M,N,O,P,Q,R,S,T,U,V,W,X,Y,Z,"
     ]
    }
   ],
   "source": [
    "a = ord('A')\n",
    "\n",
    "print(a)\n",
    "print(chr(65))\n",
    "\n",
    "for i in range(a, a+26):\n",
    "    print(chr(i), end=',')"
   ]
  },
  {
   "cell_type": "markdown",
   "id": "7393395f",
   "metadata": {},
   "source": [
    "## chiffrement RSA p 210"
   ]
  },
  {
   "cell_type": "markdown",
   "id": "fb008b21",
   "metadata": {},
   "source": [
    "## méthode de Vigenère p 211"
   ]
  },
  {
   "cell_type": "markdown",
   "id": "675b372d",
   "metadata": {},
   "source": [
    "## chiffrement César (bac 2011 - ex 23 p 215)"
   ]
  },
  {
   "cell_type": "markdown",
   "id": "bce8cba8",
   "metadata": {},
   "source": [
    "## chiffrement XOR (ex 25 - 26 p215)"
   ]
  },
  {
   "cell_type": "markdown",
   "id": "a1140b7f",
   "metadata": {},
   "source": [
    "## chiffrement par permutation (ex 24 p 215)"
   ]
  },
  {
   "cell_type": "code",
   "execution_count": null,
   "id": "601eba00",
   "metadata": {},
   "outputs": [],
   "source": []
  }
 ],
 "metadata": {
  "kernelspec": {
   "display_name": "Python 3 (ipykernel)",
   "language": "python",
   "name": "python3"
  },
  "language_info": {
   "codemirror_mode": {
    "name": "ipython",
    "version": 3
   },
   "file_extension": ".py",
   "mimetype": "text/x-python",
   "name": "python",
   "nbconvert_exporter": "python",
   "pygments_lexer": "ipython3",
   "version": "3.11.4"
  }
 },
 "nbformat": 4,
 "nbformat_minor": 5
}
