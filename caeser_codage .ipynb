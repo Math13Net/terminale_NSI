{
 "cells": [
  {
   "cell_type": "markdown",
   "id": "e26a1952",
   "metadata": {},
   "source": [
    "# Caeser Codage"
   ]
  },
  {
   "cell_type": "code",
   "execution_count": 1,
   "id": "3b441a29",
   "metadata": {},
   "outputs": [],
   "source": [
    "# Partial Listing: Some Assembly Required\n",
    " \n",
    "import string\n",
    " \n",
    "def create_shift_substitutions(n):\n",
    "    encoding = {}\n",
    "    decoding = {}\n",
    "    alphabet_size = len(string.ascii_uppercase)\n",
    "    for i in range(alphabet_size):\n",
    "        letter       = string.ascii_uppercase[i]\n",
    "        subst_letter = string.ascii_uppercase[(i+n)%alphabet_size]\n",
    "\n",
    "        encoding[letter]       = subst_letter\n",
    "        decoding[subst_letter] = letter\n",
    "    return encoding, decoding"
   ]
  },
  {
   "cell_type": "code",
   "execution_count": 22,
   "id": "ff86ccc3",
   "metadata": {},
   "outputs": [
    {
     "data": {
      "text/plain": [
       "({'A': 'D',\n",
       "  'B': 'E',\n",
       "  'C': 'F',\n",
       "  'D': 'G',\n",
       "  'E': 'H',\n",
       "  'F': 'I',\n",
       "  'G': 'J',\n",
       "  'H': 'K',\n",
       "  'I': 'L',\n",
       "  'J': 'M',\n",
       "  'K': 'N',\n",
       "  'L': 'O',\n",
       "  'M': 'P',\n",
       "  'N': 'Q',\n",
       "  'O': 'R',\n",
       "  'P': 'S',\n",
       "  'Q': 'T',\n",
       "  'R': 'U',\n",
       "  'S': 'V',\n",
       "  'T': 'W',\n",
       "  'U': 'X',\n",
       "  'V': 'Y',\n",
       "  'W': 'Z',\n",
       "  'X': 'A',\n",
       "  'Y': 'B',\n",
       "  'Z': 'C'},\n",
       " {'D': 'A',\n",
       "  'E': 'B',\n",
       "  'F': 'C',\n",
       "  'G': 'D',\n",
       "  'H': 'E',\n",
       "  'I': 'F',\n",
       "  'J': 'G',\n",
       "  'K': 'H',\n",
       "  'L': 'I',\n",
       "  'M': 'J',\n",
       "  'N': 'K',\n",
       "  'O': 'L',\n",
       "  'P': 'M',\n",
       "  'Q': 'N',\n",
       "  'R': 'O',\n",
       "  'S': 'P',\n",
       "  'T': 'Q',\n",
       "  'U': 'R',\n",
       "  'V': 'S',\n",
       "  'W': 'T',\n",
       "  'X': 'U',\n",
       "  'Y': 'V',\n",
       "  'Z': 'W',\n",
       "  'A': 'X',\n",
       "  'B': 'Y',\n",
       "  'C': 'Z'})"
      ]
     },
     "execution_count": 22,
     "metadata": {},
     "output_type": "execute_result"
    }
   ],
   "source": [
    "create_shift_substitutions(3)"
   ]
  },
  {
   "cell_type": "markdown",
   "id": "22aea663",
   "metadata": {},
   "source": [
    "---------------------------------------"
   ]
  },
  {
   "cell_type": "code",
   "execution_count": 2,
   "id": "976078b3",
   "metadata": {},
   "outputs": [],
   "source": [
    "# Partial Listing: Some Assembly Required\n",
    "\n",
    "def encode(message, subst):\n",
    "    cipher = \"\"\n",
    "    for letter in message:\n",
    "        if letter in subst:\n",
    "            cipher += subst[letter]\n",
    "        else:\n",
    "            cipher += letter\n",
    "    return cipher\n",
    "\n",
    "def decode(message, subst):\n",
    "    return encode(message, subst)"
   ]
  },
  {
   "cell_type": "code",
   "execution_count": 3,
   "id": "c8393c68",
   "metadata": {},
   "outputs": [
    {
     "data": {
      "text/plain": [
       "'CPOKPVS'"
      ]
     },
     "execution_count": 3,
     "metadata": {},
     "output_type": "execute_result"
    }
   ],
   "source": [
    "encode(\"BONJOUR\",create_shift_substitutions(1)[0])"
   ]
  },
  {
   "cell_type": "code",
   "execution_count": 4,
   "id": "77ec2d2b",
   "metadata": {},
   "outputs": [
    {
     "data": {
      "text/plain": [
       "'BONJOUR'"
      ]
     },
     "execution_count": 4,
     "metadata": {},
     "output_type": "execute_result"
    }
   ],
   "source": [
    "decode(\"CPOKPVS\",create_shift_substitutions(1)[1])"
   ]
  },
  {
   "cell_type": "code",
   "execution_count": 5,
   "id": "db02d8b4",
   "metadata": {},
   "outputs": [],
   "source": [
    "def encode_bis(message, subst):\n",
    "    return \"\".join(subst.get(x, x) for x in message)"
   ]
  },
  {
   "cell_type": "code",
   "execution_count": 6,
   "id": "b193ed52",
   "metadata": {},
   "outputs": [
    {
     "data": {
      "text/plain": [
       "'CPOKPVS'"
      ]
     },
     "execution_count": 6,
     "metadata": {},
     "output_type": "execute_result"
    }
   ],
   "source": [
    "encode_bis(\"BONJOUR\", create_shift_substitutions(1)[0])"
   ]
  },
  {
   "cell_type": "code",
   "execution_count": 7,
   "id": "cadc5db5",
   "metadata": {},
   "outputs": [
    {
     "data": {
      "text/plain": [
       "'BONJOUR'"
      ]
     },
     "execution_count": 7,
     "metadata": {},
     "output_type": "execute_result"
    }
   ],
   "source": [
    "encode_bis(\"CPOKPVS\", create_shift_substitutions(1)[1])"
   ]
  },
  {
   "cell_type": "markdown",
   "id": "98ef9486",
   "metadata": {},
   "source": [
    "---------------------------------------"
   ]
  },
  {
   "cell_type": "code",
   "execution_count": 23,
   "id": "771412e3",
   "metadata": {},
   "outputs": [],
   "source": [
    "# Partial Listing: Some Assembly Required\n",
    " \n",
    "def printable_substitution(subst):\n",
    "    # Sort by source character so things are alphabetized.\n",
    "    mapping = sorted(subst.items())\n",
    "    \n",
    "    # Then create two lines: source above, target beneath.\n",
    "    alphabet_line = \" \".join(letter for letter, _ in mapping)\n",
    "    cipher_line = \" \".join(subst_letter for _, subst_letter in mapping)\n",
    "    return f\"{alphabet_line}\\n{cipher_line}\""
   ]
  },
  {
   "cell_type": "code",
   "execution_count": 24,
   "id": "692c0f8b",
   "metadata": {},
   "outputs": [
    {
     "data": {
      "text/plain": [
       "'A B C D E F G H I J K L M N O P Q R S T U V W X Y Z\\nZ A B C D E F G H I J K L M N O P Q R S T U V W X Y'"
      ]
     },
     "execution_count": 24,
     "metadata": {},
     "output_type": "execute_result"
    }
   ],
   "source": [
    "printable_substitution(decoding)"
   ]
  },
  {
   "cell_type": "code",
   "execution_count": null,
   "id": "62f1ec5a",
   "metadata": {},
   "outputs": [],
   "source": [
    "# Partial Listing: Some Assembly Required\n",
    "\n",
    "if __name__ == \"__main__\":\n",
    "    n = 1\n",
    "    encoding, decoding = create_shift_substitutions(n)\n",
    "    while True:\n",
    "        print(\"\\nShift Encoder Decoder\")\n",
    "        print(\"---------------------\")\n",
    "        print(\"\\tCurrent Shift: {}\\n\".format(n))\n",
    "        print(\"\\t1. Print Encoding/Decoding Tables.\")\n",
    "        print(\"\\t2. Encode Message.\")\n",
    "        print(\"\\t3. Decode Message.\")\n",
    "        print(\"\\t4. Change Shift\")\n",
    "        print(\"\\t5. Quit.\\n\")\n",
    "        choice = input(\">> \")\n",
    "        print()\n",
    "        \n",
    "        if choice == '1':\n",
    "            print(\"Encoding Table:\")\n",
    "            print(printable_substitution(encoding))\n",
    "            print(\"Decoding Table:\")\n",
    "            print(printable_substitution(decoding))\n",
    "\n",
    "        elif choice == '2':\n",
    "            message = input(\"\\nMessage to encode: \")\n",
    "            print(\"Encoded Message: {}\".format(\n",
    "            encode(message.upper(), encoding)))\n",
    "\n",
    "        elif choice == '3':\n",
    "            message = input(\"\\nMessage to decode: \")\n",
    "            print(\"Decoded Message: {}\".format(\n",
    "            decode(message.upper(), decoding)))\n",
    "\n",
    "        elif choice == '4':\n",
    "            new_shift = input(\"\\nNew shift (currently {}): \".format(n))\n",
    "            try:\n",
    "                new_shift = int(new_shift)\n",
    "                if new_shift < 1:\n",
    "                    raise Exception(\"Shift must be greater than 0\")\n",
    "            except ValueError:\n",
    "                print(\"Shift {} is not a valid number.\".format(new_shift))\n",
    "            else:\n",
    "                n = new_shift\n",
    "                encoding, decoding = create_shift_substitutions(n)\n",
    "\n",
    "        elif choice == '5':\n",
    "            print(\"Terminating. This program will self destruct in 5 seconds .\\n\")\n",
    "            break\n",
    "\n",
    "        else:\n",
    "            print(\"Unknown option {}.\".format(choice))            "
   ]
  },
  {
   "cell_type": "code",
   "execution_count": null,
   "id": "d47354f7",
   "metadata": {},
   "outputs": [],
   "source": []
  }
 ],
 "metadata": {
  "kernelspec": {
   "display_name": "Python 3 (ipykernel)",
   "language": "python",
   "name": "python3"
  },
  "language_info": {
   "codemirror_mode": {
    "name": "ipython",
    "version": 3
   },
   "file_extension": ".py",
   "mimetype": "text/x-python",
   "name": "python",
   "nbconvert_exporter": "python",
   "pygments_lexer": "ipython3",
   "version": "3.9.12"
  }
 },
 "nbformat": 4,
 "nbformat_minor": 5
}
