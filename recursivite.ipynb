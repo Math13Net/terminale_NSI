{
 "cells": [
  {
   "cell_type": "markdown",
   "id": "b1796796",
   "metadata": {},
   "source": [
    "# Récursivité - Exemple du cours"
   ]
  },
  {
   "cell_type": "markdown",
   "id": "5ee144e4",
   "metadata": {},
   "source": [
    "— — — — — — — — — — — — — — — — — — — — — — — — — — — — — — — — — — — — — — — — — — — — — — — — —"
   ]
  },
  {
   "cell_type": "markdown",
   "id": "bf84843a",
   "metadata": {},
   "source": [
    "## Ex 1 : calculer la somme : 1 + 2 + 3 + ... + n ?"
   ]
  },
  {
   "cell_type": "code",
   "execution_count": 2,
   "id": "f8c5dd95",
   "metadata": {},
   "outputs": [],
   "source": [
    "# construire une fonction somme_1(n) exploitant une boucle for\n",
    "\n",
    "def somme_1(n):\n",
    "    r = 0\n",
    "    for i in range(n+1):\n",
    "        r = r + i                 #   r += i\n",
    "    return r"
   ]
  },
  {
   "cell_type": "code",
   "execution_count": 5,
   "id": "2e39c559",
   "metadata": {},
   "outputs": [
    {
     "data": {
      "text/plain": [
       "55"
      ]
     },
     "execution_count": 5,
     "metadata": {},
     "output_type": "execute_result"
    }
   ],
   "source": [
    "somme_1(10)"
   ]
  },
  {
   "cell_type": "code",
   "execution_count": 6,
   "id": "fac0b96c",
   "metadata": {},
   "outputs": [],
   "source": [
    "# construire une fonction somme_2(n) exploitant le résultat de somme(n-1)\n",
    "\n",
    "def somme_2(n):\n",
    "    if n == 0:                      # condition d'arrêt\n",
    "        return 0\n",
    "    else:\n",
    "        return n + somme_2(n-1)     # récurrence"
   ]
  },
  {
   "cell_type": "code",
   "execution_count": 7,
   "id": "aacebb7f",
   "metadata": {},
   "outputs": [
    {
     "data": {
      "text/plain": [
       "55"
      ]
     },
     "execution_count": 7,
     "metadata": {},
     "output_type": "execute_result"
    }
   ],
   "source": [
    "somme_2(10)"
   ]
  },
  {
   "cell_type": "markdown",
   "id": "8d2001a8",
   "metadata": {},
   "source": [
    "— — — — — — — — — — — — — — — — — — — — — — — — — — — — — — — — — — — — — — — — — — — — — — — — —"
   ]
  },
  {
   "cell_type": "markdown",
   "id": "e0a053bd",
   "metadata": {},
   "source": [
    "## Ex 2 : calculer x**n ?"
   ]
  },
  {
   "cell_type": "code",
   "execution_count": 22,
   "id": "442bcc6c",
   "metadata": {},
   "outputs": [],
   "source": [
    "# puissance_1(x, n) avec for\n",
    "\n",
    "def puissance_1(x, n):\n",
    "    r = 1\n",
    "    for i in range(n):\n",
    "        r = r * x                 #   r *= x\n",
    "    return r"
   ]
  },
  {
   "cell_type": "code",
   "execution_count": 23,
   "id": "348600a7",
   "metadata": {},
   "outputs": [
    {
     "data": {
      "text/plain": [
       "32"
      ]
     },
     "execution_count": 23,
     "metadata": {},
     "output_type": "execute_result"
    }
   ],
   "source": [
    "puissance_1(2,5)"
   ]
  },
  {
   "cell_type": "code",
   "execution_count": 28,
   "id": "f38215c2",
   "metadata": {},
   "outputs": [],
   "source": [
    "# puissance_2(x, n) par récursivité\n",
    "def puissance_2(x, n):\n",
    "    if n == 0:                             # condition d'arrêt\n",
    "        return 1\n",
    "    else:\n",
    "        return x * puissance_2(x, n-1)     # récurrence"
   ]
  },
  {
   "cell_type": "code",
   "execution_count": 29,
   "id": "9a301ae0",
   "metadata": {},
   "outputs": [
    {
     "data": {
      "text/plain": [
       "32"
      ]
     },
     "execution_count": 29,
     "metadata": {},
     "output_type": "execute_result"
    }
   ],
   "source": [
    "puissance_2(2,5)"
   ]
  },
  {
   "cell_type": "markdown",
   "id": "42b00119",
   "metadata": {},
   "source": [
    "— — — — — — — — — — — — — — — — — — — — — — — — — — — — — — — — — — — — — — — — — — — — — — — — —"
   ]
  },
  {
   "cell_type": "markdown",
   "id": "389057e5",
   "metadata": {},
   "source": [
    "## Ex 3 : suite de fibonacci - U_0 = 1 , U_1 = 1 et U_n = U(n-1) + U_(n-2)"
   ]
  },
  {
   "cell_type": "code",
   "execution_count": 31,
   "id": "f034fcb6",
   "metadata": {},
   "outputs": [],
   "source": [
    "# cas du n-ième terme de la suite de fibonacci(n) par récursivité\n",
    "def fibonacci(n):\n",
    "    if n == 0:                                     # conditions d'arrêts\n",
    "        return 0\n",
    "    elif n == 1:\n",
    "        return 1 \n",
    "    else:\n",
    "        return fibonacci(n-1) + fibonacci(n-2)     # récurrence"
   ]
  },
  {
   "cell_type": "code",
   "execution_count": 32,
   "id": "b9e2353a",
   "metadata": {},
   "outputs": [
    {
     "data": {
      "text/plain": [
       "0"
      ]
     },
     "execution_count": 32,
     "metadata": {},
     "output_type": "execute_result"
    }
   ],
   "source": [
    "fibonacci(0)"
   ]
  },
  {
   "cell_type": "code",
   "execution_count": 33,
   "id": "67a448d8",
   "metadata": {},
   "outputs": [
    {
     "data": {
      "text/plain": [
       "1"
      ]
     },
     "execution_count": 33,
     "metadata": {},
     "output_type": "execute_result"
    }
   ],
   "source": [
    "fibonacci(1)"
   ]
  },
  {
   "cell_type": "code",
   "execution_count": 34,
   "id": "15d75bc2",
   "metadata": {},
   "outputs": [
    {
     "data": {
      "text/plain": [
       "55"
      ]
     },
     "execution_count": 34,
     "metadata": {},
     "output_type": "execute_result"
    }
   ],
   "source": [
    "fibonacci(10)"
   ]
  },
  {
   "cell_type": "markdown",
   "id": "ffa5bdd0",
   "metadata": {},
   "source": [
    "— — — — — — — — — — — — — — — — — — — — — — — — — — — — — — — — — — — — — — — — — — — — — — — — —"
   ]
  },
  {
   "cell_type": "markdown",
   "id": "7088cb7a",
   "metadata": {},
   "source": [
    "# Récursivité - Fiche d'ex"
   ]
  },
  {
   "cell_type": "markdown",
   "id": "093d9bab",
   "metadata": {},
   "source": [
    "# Ex 1 : factorielle(n) de façon récursive"
   ]
  },
  {
   "cell_type": "code",
   "execution_count": 8,
   "id": "41973de8",
   "metadata": {},
   "outputs": [],
   "source": [
    "def factorielle(n):\n",
    "    if n == 0:\n",
    "        return 1\n",
    "    else:\n",
    "        return n*factorielle(n-1)"
   ]
  },
  {
   "cell_type": "code",
   "execution_count": 9,
   "id": "568a6f24",
   "metadata": {},
   "outputs": [
    {
     "data": {
      "text/plain": [
       "24"
      ]
     },
     "execution_count": 9,
     "metadata": {},
     "output_type": "execute_result"
    }
   ],
   "source": [
    "factorielle(4)"
   ]
  },
  {
   "cell_type": "code",
   "execution_count": 1,
   "id": "559c908d",
   "metadata": {},
   "outputs": [
    {
     "ename": "NameError",
     "evalue": "name 'factorielle' is not defined",
     "output_type": "error",
     "traceback": [
      "\u001b[1;31m---------------------------------------------------------------------------\u001b[0m",
      "\u001b[1;31mNameError\u001b[0m                                 Traceback (most recent call last)",
      "\u001b[1;32m~\\AppData\\Local\\Temp/ipykernel_312/136498904.py\u001b[0m in \u001b[0;36m<module>\u001b[1;34m\u001b[0m\n\u001b[1;32m----> 1\u001b[1;33m \u001b[0mfactorielle\u001b[0m\u001b[1;33m(\u001b[0m\u001b[1;33m-\u001b[0m\u001b[1;36m2\u001b[0m\u001b[1;33m)\u001b[0m\u001b[1;33m\u001b[0m\u001b[1;33m\u001b[0m\u001b[0m\n\u001b[0m",
      "\u001b[1;31mNameError\u001b[0m: name 'factorielle' is not defined"
     ]
    }
   ],
   "source": [
    "factorielle(-2)"
   ]
  },
  {
   "cell_type": "code",
   "execution_count": 9,
   "id": "2acfe47b",
   "metadata": {},
   "outputs": [],
   "source": [
    "# voir chapitre 2 : gestion des exceptions\n",
    "\n",
    "def factorielle_positive(n):\n",
    "    if n < 0:\n",
    "      raise Exception(\"désolé, ce nombre est négatif\")\n",
    "    if n == 0:\n",
    "        return 1\n",
    "    else:\n",
    "        return n*factorielle_positive(n-1)"
   ]
  },
  {
   "cell_type": "code",
   "execution_count": 10,
   "id": "e0cd3362",
   "metadata": {},
   "outputs": [
    {
     "ename": "Exception",
     "evalue": "désolé, ce nombre est négatif",
     "output_type": "error",
     "traceback": [
      "\u001b[1;31m---------------------------------------------------------------------------\u001b[0m",
      "\u001b[1;31mException\u001b[0m                                 Traceback (most recent call last)",
      "\u001b[1;32m~\\AppData\\Local\\Temp/ipykernel_312/1399426311.py\u001b[0m in \u001b[0;36m<module>\u001b[1;34m\u001b[0m\n\u001b[1;32m----> 1\u001b[1;33m \u001b[0mfactorielle_positive\u001b[0m\u001b[1;33m(\u001b[0m\u001b[1;33m-\u001b[0m\u001b[1;36m2\u001b[0m\u001b[1;33m)\u001b[0m\u001b[1;33m\u001b[0m\u001b[1;33m\u001b[0m\u001b[0m\n\u001b[0m",
      "\u001b[1;32m~\\AppData\\Local\\Temp/ipykernel_312/3604603351.py\u001b[0m in \u001b[0;36mfactorielle_positive\u001b[1;34m(n)\u001b[0m\n\u001b[0;32m      3\u001b[0m \u001b[1;32mdef\u001b[0m \u001b[0mfactorielle_positive\u001b[0m\u001b[1;33m(\u001b[0m\u001b[0mn\u001b[0m\u001b[1;33m)\u001b[0m\u001b[1;33m:\u001b[0m\u001b[1;33m\u001b[0m\u001b[1;33m\u001b[0m\u001b[0m\n\u001b[0;32m      4\u001b[0m     \u001b[1;32mif\u001b[0m \u001b[0mn\u001b[0m \u001b[1;33m<\u001b[0m \u001b[1;36m0\u001b[0m\u001b[1;33m:\u001b[0m\u001b[1;33m\u001b[0m\u001b[1;33m\u001b[0m\u001b[0m\n\u001b[1;32m----> 5\u001b[1;33m       \u001b[1;32mraise\u001b[0m \u001b[0mException\u001b[0m\u001b[1;33m(\u001b[0m\u001b[1;34m\"désolé, ce nombre est négatif\"\u001b[0m\u001b[1;33m)\u001b[0m\u001b[1;33m\u001b[0m\u001b[1;33m\u001b[0m\u001b[0m\n\u001b[0m\u001b[0;32m      6\u001b[0m     \u001b[1;32mif\u001b[0m \u001b[0mn\u001b[0m \u001b[1;33m==\u001b[0m \u001b[1;36m0\u001b[0m\u001b[1;33m:\u001b[0m\u001b[1;33m\u001b[0m\u001b[1;33m\u001b[0m\u001b[0m\n\u001b[0;32m      7\u001b[0m         \u001b[1;32mreturn\u001b[0m \u001b[1;36m1\u001b[0m\u001b[1;33m\u001b[0m\u001b[1;33m\u001b[0m\u001b[0m\n",
      "\u001b[1;31mException\u001b[0m: désolé, ce nombre est négatif"
     ]
    }
   ],
   "source": [
    "factorielle_positive(-2)"
   ]
  },
  {
   "cell_type": "markdown",
   "id": "d35152ef",
   "metadata": {},
   "source": [
    "## Ex 2 : programmer syracuse(n,a) de façon récursive"
   ]
  },
  {
   "cell_type": "code",
   "execution_count": 8,
   "id": "f3612594",
   "metadata": {},
   "outputs": [],
   "source": [
    "def syracuse_1(u_n):\n",
    "  print(u_n)\n",
    "  if u_n > 1:\n",
    "    if ( u_n % 2 ) == 0:\n",
    "      syracuse_1(u_n / 2)\n",
    "    else:\n",
    "      syracuse_1(3 * u_n + 1)\n",
    "\n",
    "def syracuse_2(u_n):\n",
    "  assert ( type (u_n) == int )\n",
    "  print(u_n)\n",
    "  if u_n > 1:\n",
    "    if ( u_n % 2 ) == 0:\n",
    "      syracuse_2(u_n / 2)\n",
    "    else:\n",
    "      syracuse_2(3 * u_n + 1)\n",
    "\n",
    "def syracuse_3(u_n):\n",
    "  assert ( type (u_n) == int )\n",
    "  print(u_n)\n",
    "  if u_n > 1:\n",
    "    if ( u_n % 2 ) == 0:\n",
    "      syracuse_3(u_n / 2)\n",
    "    else:\n",
    "      syracuse_3(3 * u_n + 1)\n",
    "\n",
    "def syracuse_3_main(u_n):\n",
    "  try:\n",
    "    syracuse_3(u_n)\n",
    "  except:\n",
    "    if type (u_n) != int:\n",
    "        print (f\"la valeur de {u_n} ne convient pas\")\n",
    "    "
   ]
  },
  {
   "cell_type": "code",
   "execution_count": 9,
   "id": "017ab5c8",
   "metadata": {},
   "outputs": [
    {
     "name": "stdout",
     "output_type": "stream",
     "text": [
      "10\n",
      "5.0\n",
      "16.0\n",
      "8.0\n",
      "4.0\n",
      "2.0\n",
      "1.0\n"
     ]
    }
   ],
   "source": [
    "syracuse_1(10)"
   ]
  },
  {
   "cell_type": "code",
   "execution_count": 10,
   "id": "ef3b3ba2",
   "metadata": {},
   "outputs": [
    {
     "ename": "AssertionError",
     "evalue": "",
     "output_type": "error",
     "traceback": [
      "\u001b[1;31m---------------------------------------------------------------------------\u001b[0m",
      "\u001b[1;31mAssertionError\u001b[0m                            Traceback (most recent call last)",
      "\u001b[1;32m~\\AppData\\Local\\Temp/ipykernel_11696/2357185761.py\u001b[0m in \u001b[0;36m<module>\u001b[1;34m\u001b[0m\n\u001b[1;32m----> 1\u001b[1;33m \u001b[0msyracuse_2\u001b[0m\u001b[1;33m(\u001b[0m\u001b[1;36m5.2\u001b[0m\u001b[1;33m)\u001b[0m\u001b[1;33m\u001b[0m\u001b[1;33m\u001b[0m\u001b[0m\n\u001b[0m",
      "\u001b[1;32m~\\AppData\\Local\\Temp/ipykernel_11696/577180874.py\u001b[0m in \u001b[0;36msyracuse_2\u001b[1;34m(u_n)\u001b[0m\n\u001b[0;32m      8\u001b[0m \u001b[1;33m\u001b[0m\u001b[0m\n\u001b[0;32m      9\u001b[0m \u001b[1;32mdef\u001b[0m \u001b[0msyracuse_2\u001b[0m\u001b[1;33m(\u001b[0m\u001b[0mu_n\u001b[0m\u001b[1;33m)\u001b[0m\u001b[1;33m:\u001b[0m\u001b[1;33m\u001b[0m\u001b[1;33m\u001b[0m\u001b[0m\n\u001b[1;32m---> 10\u001b[1;33m   \u001b[1;32massert\u001b[0m \u001b[1;33m(\u001b[0m \u001b[0mtype\u001b[0m \u001b[1;33m(\u001b[0m\u001b[0mu_n\u001b[0m\u001b[1;33m)\u001b[0m \u001b[1;33m==\u001b[0m \u001b[0mint\u001b[0m \u001b[1;33m)\u001b[0m\u001b[1;33m\u001b[0m\u001b[1;33m\u001b[0m\u001b[0m\n\u001b[0m\u001b[0;32m     11\u001b[0m   \u001b[0mprint\u001b[0m\u001b[1;33m(\u001b[0m\u001b[0mu_n\u001b[0m\u001b[1;33m)\u001b[0m\u001b[1;33m\u001b[0m\u001b[1;33m\u001b[0m\u001b[0m\n\u001b[0;32m     12\u001b[0m   \u001b[1;32mif\u001b[0m \u001b[0mu_n\u001b[0m \u001b[1;33m>\u001b[0m \u001b[1;36m1\u001b[0m\u001b[1;33m:\u001b[0m\u001b[1;33m\u001b[0m\u001b[1;33m\u001b[0m\u001b[0m\n",
      "\u001b[1;31mAssertionError\u001b[0m: "
     ]
    }
   ],
   "source": [
    "syracuse_2(5.2)"
   ]
  },
  {
   "cell_type": "code",
   "execution_count": 11,
   "id": "9950db63",
   "metadata": {},
   "outputs": [
    {
     "name": "stdout",
     "output_type": "stream",
     "text": [
      "10\n"
     ]
    }
   ],
   "source": [
    "syracuse_3_main(10)"
   ]
  },
  {
   "cell_type": "code",
   "execution_count": 12,
   "id": "f4d17045",
   "metadata": {},
   "outputs": [
    {
     "name": "stdout",
     "output_type": "stream",
     "text": [
      "la valeur de 5.2 ne convient pas\n"
     ]
    }
   ],
   "source": [
    "syracuse_3_main(5.2)"
   ]
  },
  {
   "cell_type": "markdown",
   "id": "25ae3574",
   "metadata": {},
   "source": [
    "## Ex 3 : programmer serie(n, a, b)"
   ]
  },
  {
   "cell_type": "code",
   "execution_count": 1,
   "id": "ef8c7566",
   "metadata": {},
   "outputs": [],
   "source": [
    "def serie(n, a, b):\n",
    "    if n == 0:\n",
    "        return a\n",
    "    elif n ==1:\n",
    "        return b\n",
    "    else:\n",
    "        return 3*serie(n-1, a, b) + 2*serie(n-2, a, b) + 5"
   ]
  },
  {
   "cell_type": "code",
   "execution_count": 2,
   "id": "35851786",
   "metadata": {},
   "outputs": [
    {
     "data": {
      "text/plain": [
       "518779"
      ]
     },
     "execution_count": 2,
     "metadata": {},
     "output_type": "execute_result"
    }
   ],
   "source": [
    "serie(10, 1, 4)"
   ]
  },
  {
   "cell_type": "markdown",
   "id": "924f8b41",
   "metadata": {},
   "source": [
    "## Ex 4 : programmer nb_de_chiffre(n)"
   ]
  },
  {
   "cell_type": "code",
   "execution_count": 4,
   "id": "9cad3c5d",
   "metadata": {},
   "outputs": [],
   "source": [
    "def nb_de_chiffre(n):\n",
    "    if n < 10:\n",
    "        return 1\n",
    "    else:\n",
    "        return 1 + nb_de_chiffre(n//10)"
   ]
  },
  {
   "cell_type": "code",
   "execution_count": 5,
   "id": "e5e8ad6b",
   "metadata": {},
   "outputs": [
    {
     "data": {
      "text/plain": [
       "5"
      ]
     },
     "execution_count": 5,
     "metadata": {},
     "output_type": "execute_result"
    }
   ],
   "source": [
    "nb_de_chiffre(12345)"
   ]
  },
  {
   "cell_type": "markdown",
   "id": "9ffd2f6d",
   "metadata": {},
   "source": [
    "## Ex 5 : programmer nb_de_1(n)"
   ]
  },
  {
   "cell_type": "code",
   "execution_count": 2,
   "id": "9a256e1f",
   "metadata": {},
   "outputs": [],
   "source": [
    "def nb_de_1(n):\n",
    "    if n == 0:\n",
    "        return 0\n",
    "    else:\n",
    "        return nb_de_1(n//2) + n%2"
   ]
  },
  {
   "cell_type": "code",
   "execution_count": 7,
   "id": "222921c8",
   "metadata": {},
   "outputs": [
    {
     "data": {
      "text/plain": [
       "8"
      ]
     },
     "execution_count": 7,
     "metadata": {},
     "output_type": "execute_result"
    }
   ],
   "source": [
    "nb_de_1(255)"
   ]
  },
  {
   "cell_type": "markdown",
   "id": "950fa634",
   "metadata": {},
   "source": [
    "## Ex 6 : dessiner le triangle de pascal"
   ]
  },
  {
   "cell_type": "code",
   "execution_count": 1,
   "id": "408e488c",
   "metadata": {},
   "outputs": [],
   "source": [
    "def factorielle(n):\n",
    "    if n == 0:\n",
    "        return 1\n",
    "    else:\n",
    "        return n*factorielle(n-1)\n",
    "\n",
    "def coef(n, p):\n",
    "  return int(factorielle(n)/(factorielle(n-p)*factorielle(p)))\n",
    "\n",
    "def dessine_triangle_pascal(n):\n",
    "  for i in range(n+1):\n",
    "    for j in range(i+1):\n",
    "      print(coef(i,j), \" \", end = \"\")\n",
    "    print()"
   ]
  },
  {
   "cell_type": "code",
   "execution_count": 2,
   "id": "4640743f",
   "metadata": {},
   "outputs": [
    {
     "name": "stdout",
     "output_type": "stream",
     "text": [
      "1  \n",
      "1  1  \n",
      "1  2  1  \n",
      "1  3  3  1  \n",
      "1  4  6  4  1  \n",
      "1  5  10  10  5  1  \n",
      "1  6  15  20  15  6  1  \n",
      "1  7  21  35  35  21  7  1  \n"
     ]
    }
   ],
   "source": [
    "dessine_triangle_pascal(7)"
   ]
  },
  {
   "cell_type": "markdown",
   "id": "7f8f8204",
   "metadata": {},
   "source": [
    "## Ex 7 : dessiner le flocon de Koch"
   ]
  },
  {
   "cell_type": "code",
   "execution_count": 1,
   "id": "e7b9531c",
   "metadata": {},
   "outputs": [],
   "source": [
    "import turtle\n",
    "\n",
    "def koch(n, l):\n",
    "    if n == 0:\n",
    "        turtle.forward(l)\n",
    "    else:\n",
    "        koch(n-1, l/3)\n",
    "        turtle.left(60)\n",
    "        koch(n-1, l/3)\n",
    "        turtle.right(120) \n",
    "        koch(n-1, l/3)\n",
    "        turtle.left(60)\n",
    "        koch(n-1, l/3)     "
   ]
  },
  {
   "cell_type": "code",
   "execution_count": 3,
   "id": "64cb4528",
   "metadata": {},
   "outputs": [],
   "source": [
    "koch(3, 1000)"
   ]
  },
  {
   "cell_type": "code",
   "execution_count": null,
   "id": "06d51c63",
   "metadata": {},
   "outputs": [],
   "source": []
  }
 ],
 "metadata": {
  "kernelspec": {
   "display_name": "Python 3 (ipykernel)",
   "language": "python",
   "name": "python3"
  },
  "language_info": {
   "codemirror_mode": {
    "name": "ipython",
    "version": 3
   },
   "file_extension": ".py",
   "mimetype": "text/x-python",
   "name": "python",
   "nbconvert_exporter": "python",
   "pygments_lexer": "ipython3",
   "version": "3.9.7"
  }
 },
 "nbformat": 4,
 "nbformat_minor": 5
}
