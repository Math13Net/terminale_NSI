{
 "cells": [
  {
   "cell_type": "markdown",
   "id": "649aa283",
   "metadata": {},
   "source": [
    "# exercice de récursivité"
   ]
  },
  {
   "cell_type": "markdown",
   "id": "42ef5807",
   "metadata": {},
   "source": [
    "— — — — — — — — — — — — — — — — — — — — — — — — — — — — — — — — — — — — — — — — — — — — — — — — —"
   ]
  },
  {
   "cell_type": "markdown",
   "id": "fb456978",
   "metadata": {},
   "source": [
    "Ex 1 : calculer la somme : 1 + 2 + 3 + ... + n ?"
   ]
  },
  {
   "cell_type": "code",
   "execution_count": 2,
   "id": "93993100",
   "metadata": {},
   "outputs": [],
   "source": [
    "# construire une fonction somme_1(n) exploitant une boucle for\n",
    "\n",
    "def somme_1(n):\n",
    "    r = 0\n",
    "    for i in range(n+1):\n",
    "        r = r + i                 #   r += i\n",
    "    return r"
   ]
  },
  {
   "cell_type": "code",
   "execution_count": 5,
   "id": "5f46abd4",
   "metadata": {},
   "outputs": [
    {
     "data": {
      "text/plain": [
       "55"
      ]
     },
     "execution_count": 5,
     "metadata": {},
     "output_type": "execute_result"
    }
   ],
   "source": [
    "somme_1(10)"
   ]
  },
  {
   "cell_type": "code",
   "execution_count": 6,
   "id": "59526767",
   "metadata": {},
   "outputs": [],
   "source": [
    "# construire une fonction somme_2(n) exploitant le résultat de somme(n-1)\n",
    "\n",
    "def somme_2(n):\n",
    "    if n == 0:                      # condition d'arrêt\n",
    "        return 0\n",
    "    else:\n",
    "        return n + somme_2(n-1)     # récurrence"
   ]
  },
  {
   "cell_type": "code",
   "execution_count": 7,
   "id": "3e7ee0bd",
   "metadata": {},
   "outputs": [
    {
     "data": {
      "text/plain": [
       "55"
      ]
     },
     "execution_count": 7,
     "metadata": {},
     "output_type": "execute_result"
    }
   ],
   "source": [
    "somme_2(10)"
   ]
  },
  {
   "cell_type": "markdown",
   "id": "2fb3b9d5",
   "metadata": {},
   "source": [
    "— — — — — — — — — — — — — — — — — — — — — — — — — — — — — — — — — — — — — — — — — — — — — — — — —"
   ]
  },
  {
   "cell_type": "markdown",
   "id": "184be2da",
   "metadata": {},
   "source": [
    "Ex 2 : calculer x**n ?"
   ]
  },
  {
   "cell_type": "code",
   "execution_count": 22,
   "id": "7aabcaa7",
   "metadata": {},
   "outputs": [],
   "source": [
    "# puissance_1(x, n) avec for\n",
    "\n",
    "def puissance_1(x, n):\n",
    "    r = 1\n",
    "    for i in range(n):\n",
    "        r = r * x                 #   r *= x\n",
    "    return r"
   ]
  },
  {
   "cell_type": "code",
   "execution_count": 23,
   "id": "b2848503",
   "metadata": {},
   "outputs": [
    {
     "data": {
      "text/plain": [
       "32"
      ]
     },
     "execution_count": 23,
     "metadata": {},
     "output_type": "execute_result"
    }
   ],
   "source": [
    "puissance_1(2,5)"
   ]
  },
  {
   "cell_type": "code",
   "execution_count": 28,
   "id": "1fdee002",
   "metadata": {},
   "outputs": [],
   "source": [
    "# puissance_2(x, n) par récursivité\n",
    "def puissance_2(x, n):\n",
    "    if n == 0:                             # condition d'arrêt\n",
    "        return 1\n",
    "    else:\n",
    "        return x * puissance_2(x, n-1)     # récurrence"
   ]
  },
  {
   "cell_type": "code",
   "execution_count": 29,
   "id": "572e1ef4",
   "metadata": {},
   "outputs": [
    {
     "data": {
      "text/plain": [
       "32"
      ]
     },
     "execution_count": 29,
     "metadata": {},
     "output_type": "execute_result"
    }
   ],
   "source": [
    "puissance_2(2,5)"
   ]
  },
  {
   "cell_type": "markdown",
   "id": "d0dd144a",
   "metadata": {},
   "source": [
    "— — — — — — — — — — — — — — — — — — — — — — — — — — — — — — — — — — — — — — — — — — — — — — — — —"
   ]
  },
  {
   "cell_type": "markdown",
   "id": "4dfed57d",
   "metadata": {},
   "source": [
    "Ex 3 : suite de fibonacci - U_0 = 1 , U_1 = 1 et U_n = U(n-1) + U_(n-2)"
   ]
  },
  {
   "cell_type": "code",
   "execution_count": 31,
   "id": "86f6ca02",
   "metadata": {},
   "outputs": [],
   "source": [
    "# cas du n-ième terme de la suite de fibonacci(n) par récursivité\n",
    "def fibonacci(n):\n",
    "    if n == 0:                                     # conditions d'arrêts\n",
    "        return 0\n",
    "    elif n == 1:\n",
    "        return 1 \n",
    "    else:\n",
    "        return fibonacci(n-1) + fibonacci(n-2)     # récurrence"
   ]
  },
  {
   "cell_type": "code",
   "execution_count": 32,
   "id": "1c9ddc03",
   "metadata": {},
   "outputs": [
    {
     "data": {
      "text/plain": [
       "0"
      ]
     },
     "execution_count": 32,
     "metadata": {},
     "output_type": "execute_result"
    }
   ],
   "source": [
    "fibonacci(0)"
   ]
  },
  {
   "cell_type": "code",
   "execution_count": 33,
   "id": "ed24e5de",
   "metadata": {},
   "outputs": [
    {
     "data": {
      "text/plain": [
       "1"
      ]
     },
     "execution_count": 33,
     "metadata": {},
     "output_type": "execute_result"
    }
   ],
   "source": [
    "fibonacci(1)"
   ]
  },
  {
   "cell_type": "code",
   "execution_count": 34,
   "id": "49456292",
   "metadata": {},
   "outputs": [
    {
     "data": {
      "text/plain": [
       "55"
      ]
     },
     "execution_count": 34,
     "metadata": {},
     "output_type": "execute_result"
    }
   ],
   "source": [
    "fibonacci(10)"
   ]
  },
  {
   "cell_type": "code",
   "execution_count": null,
   "id": "2ed9678b",
   "metadata": {},
   "outputs": [],
   "source": []
  }
 ],
 "metadata": {
  "kernelspec": {
   "display_name": "Python 3 (ipykernel)",
   "language": "python",
   "name": "python3"
  },
  "language_info": {
   "codemirror_mode": {
    "name": "ipython",
    "version": 3
   },
   "file_extension": ".py",
   "mimetype": "text/x-python",
   "name": "python",
   "nbconvert_exporter": "python",
   "pygments_lexer": "ipython3",
   "version": "3.9.7"
  }
 },
 "nbformat": 4,
 "nbformat_minor": 5
}
