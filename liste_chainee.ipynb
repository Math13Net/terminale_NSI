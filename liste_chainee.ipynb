{
 "cells": [
  {
   "cell_type": "markdown",
   "id": "b719be1f",
   "metadata": {},
   "source": [
    "# Liste Chaînée - Cours"
   ]
  },
  {
   "cell_type": "markdown",
   "id": "e390e046",
   "metadata": {},
   "source": [
    "## Ex 1 : classe Cellule"
   ]
  },
  {
   "cell_type": "code",
   "execution_count": 4,
   "id": "dc75c68c",
   "metadata": {},
   "outputs": [],
   "source": [
    "class Cellule:\n",
    "    \"\"\"une cellule d'une liste chaînée\"\"\"\n",
    "    def __init__(self, v, s):\n",
    "        self.valeur = v\n",
    "        self.suivant = s"
   ]
  },
  {
   "cell_type": "code",
   "execution_count": 5,
   "id": "cecb9142",
   "metadata": {},
   "outputs": [],
   "source": [
    "# liste chaînée à partir de cellules\n",
    "liste_1 = Cellule(1, Cellule(2, Cellule(3, None)))\n",
    "liste_2 = Cellule(4, Cellule(5, Cellule(6, Cellule(7, None))))"
   ]
  },
  {
   "cell_type": "markdown",
   "id": "58459903",
   "metadata": {},
   "source": [
    "## Ex 2 : fonction pour la classe Cellule"
   ]
  },
  {
   "cell_type": "code",
   "execution_count": 6,
   "id": "4a34f455",
   "metadata": {},
   "outputs": [],
   "source": [
    "# en récursif\n",
    "def longueur_r(liste):\n",
    "    \"\"\"renvoie la longeur de la liste\"\"\"\n",
    "    if liste is None:\n",
    "        return 0\n",
    "    else:\n",
    "        return 1 + longueur_r(liste.suivant)\n",
    "        \n",
    "# en impératif (boucle while)\n",
    "def longueur_i(liste):\n",
    "    \"\"\"renvoie la longeur de la liste\"\"\"\n",
    "    n = 0\n",
    "    cellule = liste\n",
    "    while cellule is not None:\n",
    "        n += 1\n",
    "        cellule = cellule.suivant\n",
    "    return n"
   ]
  },
  {
   "cell_type": "code",
   "execution_count": 7,
   "id": "b9a33493",
   "metadata": {},
   "outputs": [
    {
     "data": {
      "text/plain": [
       "3"
      ]
     },
     "execution_count": 7,
     "metadata": {},
     "output_type": "execute_result"
    }
   ],
   "source": [
    "longueur_r(liste_1)"
   ]
  },
  {
   "cell_type": "code",
   "execution_count": 8,
   "id": "183a6902",
   "metadata": {},
   "outputs": [
    {
     "data": {
      "text/plain": [
       "4"
      ]
     },
     "execution_count": 8,
     "metadata": {},
     "output_type": "execute_result"
    }
   ],
   "source": [
    "longueur_i(liste_2)"
   ]
  },
  {
   "cell_type": "code",
   "execution_count": 9,
   "id": "3ab5e231",
   "metadata": {},
   "outputs": [],
   "source": [
    "def nieme_element(n, liste):\n",
    "    \"\"\"renvoie le n-ieme élément de la liste lst\n",
    "    les éléments sont numérotés à partir de 0\"\"\"\n",
    "    if liste is None:\n",
    "        raise IndexError(\"indice invalide\")\n",
    "    if n ==0:\n",
    "        return liste.valeur\n",
    "    else:\n",
    "        return nieme_element(n-1, liste.suivant)"
   ]
  },
  {
   "cell_type": "code",
   "execution_count": 10,
   "id": "2cc527b8",
   "metadata": {},
   "outputs": [
    {
     "data": {
      "text/plain": [
       "3"
      ]
     },
     "execution_count": 10,
     "metadata": {},
     "output_type": "execute_result"
    }
   ],
   "source": [
    "nieme_element(2, liste_1)"
   ]
  },
  {
   "cell_type": "code",
   "execution_count": 11,
   "id": "85164eee",
   "metadata": {},
   "outputs": [
    {
     "ename": "IndexError",
     "evalue": "indice invalide",
     "output_type": "error",
     "traceback": [
      "\u001b[1;31m---------------------------------------------------------------------------\u001b[0m",
      "\u001b[1;31mIndexError\u001b[0m                                Traceback (most recent call last)",
      "Input \u001b[1;32mIn [11]\u001b[0m, in \u001b[0;36m<cell line: 1>\u001b[1;34m()\u001b[0m\n\u001b[1;32m----> 1\u001b[0m \u001b[43mnieme_element\u001b[49m\u001b[43m(\u001b[49m\u001b[38;5;241;43m3\u001b[39;49m\u001b[43m,\u001b[49m\u001b[43m \u001b[49m\u001b[43mliste_1\u001b[49m\u001b[43m)\u001b[49m\n",
      "Input \u001b[1;32mIn [9]\u001b[0m, in \u001b[0;36mnieme_element\u001b[1;34m(n, liste)\u001b[0m\n\u001b[0;32m      7\u001b[0m     \u001b[38;5;28;01mreturn\u001b[39;00m liste\u001b[38;5;241m.\u001b[39mvaleur\n\u001b[0;32m      8\u001b[0m \u001b[38;5;28;01melse\u001b[39;00m:\n\u001b[1;32m----> 9\u001b[0m     \u001b[38;5;28;01mreturn\u001b[39;00m \u001b[43mnieme_element\u001b[49m\u001b[43m(\u001b[49m\u001b[43mn\u001b[49m\u001b[38;5;241;43m-\u001b[39;49m\u001b[38;5;241;43m1\u001b[39;49m\u001b[43m,\u001b[49m\u001b[43m \u001b[49m\u001b[43mliste\u001b[49m\u001b[38;5;241;43m.\u001b[39;49m\u001b[43msuivant\u001b[49m\u001b[43m)\u001b[49m\n",
      "Input \u001b[1;32mIn [9]\u001b[0m, in \u001b[0;36mnieme_element\u001b[1;34m(n, liste)\u001b[0m\n\u001b[0;32m      7\u001b[0m     \u001b[38;5;28;01mreturn\u001b[39;00m liste\u001b[38;5;241m.\u001b[39mvaleur\n\u001b[0;32m      8\u001b[0m \u001b[38;5;28;01melse\u001b[39;00m:\n\u001b[1;32m----> 9\u001b[0m     \u001b[38;5;28;01mreturn\u001b[39;00m \u001b[43mnieme_element\u001b[49m\u001b[43m(\u001b[49m\u001b[43mn\u001b[49m\u001b[38;5;241;43m-\u001b[39;49m\u001b[38;5;241;43m1\u001b[39;49m\u001b[43m,\u001b[49m\u001b[43m \u001b[49m\u001b[43mliste\u001b[49m\u001b[38;5;241;43m.\u001b[39;49m\u001b[43msuivant\u001b[49m\u001b[43m)\u001b[49m\n",
      "Input \u001b[1;32mIn [9]\u001b[0m, in \u001b[0;36mnieme_element\u001b[1;34m(n, liste)\u001b[0m\n\u001b[0;32m      7\u001b[0m     \u001b[38;5;28;01mreturn\u001b[39;00m liste\u001b[38;5;241m.\u001b[39mvaleur\n\u001b[0;32m      8\u001b[0m \u001b[38;5;28;01melse\u001b[39;00m:\n\u001b[1;32m----> 9\u001b[0m     \u001b[38;5;28;01mreturn\u001b[39;00m \u001b[43mnieme_element\u001b[49m\u001b[43m(\u001b[49m\u001b[43mn\u001b[49m\u001b[38;5;241;43m-\u001b[39;49m\u001b[38;5;241;43m1\u001b[39;49m\u001b[43m,\u001b[49m\u001b[43m \u001b[49m\u001b[43mliste\u001b[49m\u001b[38;5;241;43m.\u001b[39;49m\u001b[43msuivant\u001b[49m\u001b[43m)\u001b[49m\n",
      "Input \u001b[1;32mIn [9]\u001b[0m, in \u001b[0;36mnieme_element\u001b[1;34m(n, liste)\u001b[0m\n\u001b[0;32m      2\u001b[0m \u001b[38;5;124;03m\"\"\"renvoie le n-ieme élément de la liste lst\u001b[39;00m\n\u001b[0;32m      3\u001b[0m \u001b[38;5;124;03mles éléments sont numérotés à partir de 0\"\"\"\u001b[39;00m\n\u001b[0;32m      4\u001b[0m \u001b[38;5;28;01mif\u001b[39;00m liste \u001b[38;5;129;01mis\u001b[39;00m \u001b[38;5;28;01mNone\u001b[39;00m:\n\u001b[1;32m----> 5\u001b[0m     \u001b[38;5;28;01mraise\u001b[39;00m \u001b[38;5;167;01mIndexError\u001b[39;00m(\u001b[38;5;124m\"\u001b[39m\u001b[38;5;124mindice invalide\u001b[39m\u001b[38;5;124m\"\u001b[39m)\n\u001b[0;32m      6\u001b[0m \u001b[38;5;28;01mif\u001b[39;00m n \u001b[38;5;241m==\u001b[39m\u001b[38;5;241m0\u001b[39m:\n\u001b[0;32m      7\u001b[0m     \u001b[38;5;28;01mreturn\u001b[39;00m liste\u001b[38;5;241m.\u001b[39mvaleur\n",
      "\u001b[1;31mIndexError\u001b[0m: indice invalide"
     ]
    }
   ],
   "source": [
    "nieme_element(3, liste_1)"
   ]
  },
  {
   "cell_type": "code",
   "execution_count": 12,
   "id": "e8587e6f",
   "metadata": {},
   "outputs": [
    {
     "data": {
      "text/plain": [
       "4"
      ]
     },
     "execution_count": 12,
     "metadata": {},
     "output_type": "execute_result"
    }
   ],
   "source": [
    "nieme_element(0, liste_2)"
   ]
  },
  {
   "cell_type": "code",
   "execution_count": 13,
   "id": "93a9d5b6",
   "metadata": {},
   "outputs": [],
   "source": [
    "def concatener(liste_1, liste_2):\n",
    "    \"\"\"concatène les listes lliste_1 et liste_2 sous la forme d'une nouvelle liste\"\"\"\n",
    "    if liste_1 is None:\n",
    "        return liste_2\n",
    "    else:\n",
    "        return Cellule(liste_1.valeur, concatener(liste_1.suivant, liste_2))"
   ]
  },
  {
   "cell_type": "code",
   "execution_count": 14,
   "id": "b7f87879",
   "metadata": {},
   "outputs": [],
   "source": [
    "def renverser(liste):\n",
    "    \"\"\"renvoie 1 liste contenant les éléments de liste dans l'ordre inverse\"\"\"\n",
    "    liste_renverse = None\n",
    "    cellule = liste\n",
    "    while cellule is not None:\n",
    "        liste_renverse = Cellule(cellule.valeur, liste_renverse)\n",
    "        cellule = cellule.suivant\n",
    "    return liste_renverse"
   ]
  },
  {
   "cell_type": "code",
   "execution_count": 15,
   "id": "ca5e9ddc",
   "metadata": {},
   "outputs": [
    {
     "name": "stdout",
     "output_type": "stream",
     "text": [
      "1  2  3  4  5  6  7  \n",
      "7  6  5  4  3  2  1  "
     ]
    }
   ],
   "source": [
    "liste_3 = concatener(liste_1, liste_2)\n",
    "liste_4 = renverser(liste_3)\n",
    "\n",
    "for i in range(longueur_r(liste_3)):\n",
    "    print(nieme_element(i,liste_3), end = \"  \")\n",
    "print()\n",
    "\n",
    "for i in range(longueur_r(liste_4)):\n",
    "    print(nieme_element(i,liste_4), end = \"  \")"
   ]
  },
  {
   "cell_type": "markdown",
   "id": "25ac9572",
   "metadata": {},
   "source": [
    "## Ex 3 : la classe Liste (avec la notion d'encapsulation)"
   ]
  },
  {
   "cell_type": "code",
   "execution_count": 16,
   "id": "c88c8cd6",
   "metadata": {},
   "outputs": [],
   "source": [
    "class Liste:\n",
    "    \"\"\"une liste chaînée avec encapsulation des méthodes associées\"\"\"\n",
    "    def __init__(self):\n",
    "        self.tete = None\n",
    "        \n",
    "    def est_vide(self):\n",
    "        return self.tete is None\n",
    "    \n",
    "    def ajoute(self, x):\n",
    "        self.tete = Cellule(x, self.tete)\n",
    "        \n",
    "    def longueur_de_la_liste(self):\n",
    "        return longueur_r(self.tete)\n",
    "    \n",
    "    def retourne_element_n_de_la_liste(self, n):\n",
    "        return nieme_element(n, self.tete)\n",
    "    \n",
    "    def reverse(self):\n",
    "        self.tete = renverser(self.tete)\n",
    "        \n",
    "    def concatener_avec_la_liste(self, liste):\n",
    "        r = Liste()\n",
    "        r.tete = concatener(self.tete, liste.tete)\n",
    "        return r"
   ]
  },
  {
   "cell_type": "code",
   "execution_count": 36,
   "id": "8421b696",
   "metadata": {},
   "outputs": [
    {
     "name": "stdout",
     "output_type": "stream",
     "text": [
      "True\n",
      "1\n",
      "2\n",
      "3\n",
      "False\n"
     ]
    }
   ],
   "source": [
    "# construction de la liste [1, 2, 3] (construire donc à l'envers)\n",
    "liste_5 = Liste()\n",
    "print(liste_5.est_vide())\n",
    "liste_5.ajoute(3)\n",
    "liste_5.ajoute(2)\n",
    "liste_5.ajoute(1)\n",
    "print(liste_5.tete.valeur)\n",
    "print(liste_5.tete.suivant.valeur)\n",
    "print(liste_5.tete.suivant.suivant.valeur)\n",
    "print(liste_5.est_vide())"
   ]
  },
  {
   "cell_type": "code",
   "execution_count": 30,
   "id": "1248d9bc",
   "metadata": {},
   "outputs": [
    {
     "data": {
      "text/plain": [
       "3"
      ]
     },
     "execution_count": 30,
     "metadata": {},
     "output_type": "execute_result"
    }
   ],
   "source": [
    "liste_5.longueur_de_la_liste()"
   ]
  },
  {
   "cell_type": "code",
   "execution_count": 31,
   "id": "88582711",
   "metadata": {},
   "outputs": [
    {
     "data": {
      "text/plain": [
       "1"
      ]
     },
     "execution_count": 31,
     "metadata": {},
     "output_type": "execute_result"
    }
   ],
   "source": [
    "liste_5.retourne_element_n_de_la_liste(0)"
   ]
  },
  {
   "cell_type": "code",
   "execution_count": 32,
   "id": "5d35562a",
   "metadata": {},
   "outputs": [],
   "source": [
    "liste_6 = Liste()\n",
    "liste_6.ajoute(7)\n",
    "liste_6.ajoute(6)\n",
    "liste_6.ajoute(5)\n",
    "liste_6.ajoute(4)\n",
    "liste_7 = liste_5.concatener_avec_la_liste(liste_6)"
   ]
  },
  {
   "cell_type": "code",
   "execution_count": 45,
   "id": "157f38f0",
   "metadata": {},
   "outputs": [
    {
     "name": "stdout",
     "output_type": "stream",
     "text": [
      "liste_5 : 1  2  3      liste_6 : 4  5  6  7      liste_7 : 1  2  3  4  5  6  7  "
     ]
    }
   ],
   "source": [
    "print(\"liste_5 :\", end = \" \")\n",
    "for i in range(liste_5.longueur_de_la_liste()):\n",
    "    print(liste_5.retourne_element_n_de_la_liste(i), end = \"  \")\n",
    "print(\"    \", end = \"\")   \n",
    "\n",
    "print(\"liste_6 :\", end = \" \")\n",
    "for i in range(liste_6.longueur_de_la_liste()):\n",
    "    print(liste_6.retourne_element_n_de_la_liste(i), end = \"  \")\n",
    "print(\"    \", end = \"\")\n",
    "\n",
    "print(\"liste_7 :\", end = \" \")\n",
    "for i in range(liste_7.longueur_de_la_liste()):\n",
    "    print(liste_7.retourne_element_n_de_la_liste(i), end = \"  \")"
   ]
  },
  {
   "cell_type": "markdown",
   "id": "0eb59c86",
   "metadata": {},
   "source": [
    "— — — — — — — — — — — — — — — — — — — — — — — — — — — — — — — — — — — — — — — — — — — — — — — — —"
   ]
  },
  {
   "cell_type": "markdown",
   "id": "b1796796",
   "metadata": {},
   "source": [
    "# Liste Chaînée - Exercices"
   ]
  },
  {
   "cell_type": "markdown",
   "id": "930c2b69",
   "metadata": {},
   "source": [
    "<u>Attention </u>: l'ensemble des listes dans les exercices suivantes sont construites avec la classe Cellule (pas de classe Liste, ce qui serait aussi possible)"
   ]
  },
  {
   "cell_type": "markdown",
   "id": "bf84843a",
   "metadata": {},
   "source": [
    "## Ex 48 : liste_N(n)"
   ]
  },
  {
   "cell_type": "code",
   "execution_count": 63,
   "id": "97d8ba5e",
   "metadata": {},
   "outputs": [],
   "source": [
    "def liste_N(n):\n",
    "    liste = None\n",
    "    while n>0:\n",
    "        liste = Cellule(n, liste)\n",
    "        n -= 1\n",
    "    return liste"
   ]
  },
  {
   "cell_type": "code",
   "execution_count": 66,
   "id": "2bb375f5",
   "metadata": {},
   "outputs": [
    {
     "name": "stdout",
     "output_type": "stream",
     "text": [
      "<class '__main__.Cellule'>\n"
     ]
    }
   ],
   "source": [
    "A = liste_N(10)\n",
    "print(type(A))"
   ]
  },
  {
   "cell_type": "markdown",
   "id": "8d2001a8",
   "metadata": {},
   "source": [
    "— — — — — — — — — — — — — — — — — — — — — — — — — — — — — — — — — — — — — — — — — — — — — — — — —"
   ]
  },
  {
   "cell_type": "markdown",
   "id": "e0a053bd",
   "metadata": {},
   "source": [
    "## Ex 49 : affiche_liste(liste)"
   ]
  },
  {
   "cell_type": "code",
   "execution_count": 36,
   "id": "9674c3f9",
   "metadata": {},
   "outputs": [],
   "source": [
    "def affiche_liste_r(liste):\n",
    "    if liste is None:\n",
    "        print()\n",
    "    else:\n",
    "        print(liste.valeur, end =\" \")\n",
    "        affiche_liste_r(liste.suivant)\n",
    "\n",
    "def affiche_liste_while(liste):\n",
    "    cellule = liste\n",
    "    while cellule is not None:\n",
    "        print(cellule.valeur, end =\" \")\n",
    "        cellule = cellule.suivant\n",
    "    print()"
   ]
  },
  {
   "cell_type": "code",
   "execution_count": 80,
   "id": "45cff785",
   "metadata": {},
   "outputs": [
    {
     "name": "stdout",
     "output_type": "stream",
     "text": [
      "1 2 3 4 5 6 7 8 9 10 11 12 13 14 15 \n",
      "1 2 3 4 5 6 7 8 9 10 11 12 13 14 15 \n"
     ]
    }
   ],
   "source": [
    "B = liste_N(15)\n",
    "affiche_liste_r(B)\n",
    "affiche_liste_while(B)"
   ]
  },
  {
   "cell_type": "markdown",
   "id": "b5d1dc40",
   "metadata": {},
   "source": [
    "— — — — — — — — — — — — — — — — — — — — — — — — — — — — — — — — — — — — — — — — — — — — — — — — —"
   ]
  },
  {
   "cell_type": "markdown",
   "id": "d0543412",
   "metadata": {},
   "source": [
    "## Ex 50 : nieme_element_while(n, liste)"
   ]
  },
  {
   "cell_type": "code",
   "execution_count": 85,
   "id": "08733594",
   "metadata": {},
   "outputs": [],
   "source": [
    "def nieme_element_while(n, liste):\n",
    "    i = 0\n",
    "    cellule = liste\n",
    "    while (i<n) and (cellule is not None):\n",
    "        i += 1\n",
    "        cellule = cellule.suivant\n",
    "    if (n<0) or (cellule is None):\n",
    "        raise IndexError(\"indice invalide\")\n",
    "    return cellule.valeur"
   ]
  },
  {
   "cell_type": "code",
   "execution_count": 88,
   "id": "a6fb2bdf",
   "metadata": {},
   "outputs": [
    {
     "data": {
      "text/plain": [
       "13"
      ]
     },
     "execution_count": 88,
     "metadata": {},
     "output_type": "execute_result"
    }
   ],
   "source": [
    "nieme_element_while(12, B)"
   ]
  },
  {
   "cell_type": "code",
   "execution_count": 87,
   "id": "225d8c33",
   "metadata": {},
   "outputs": [
    {
     "ename": "IndexError",
     "evalue": "indice invalide",
     "output_type": "error",
     "traceback": [
      "\u001b[1;31m---------------------------------------------------------------------------\u001b[0m",
      "\u001b[1;31mIndexError\u001b[0m                                Traceback (most recent call last)",
      "Input \u001b[1;32mIn [87]\u001b[0m, in \u001b[0;36m<cell line: 1>\u001b[1;34m()\u001b[0m\n\u001b[1;32m----> 1\u001b[0m \u001b[43mnieme_element_while\u001b[49m\u001b[43m(\u001b[49m\u001b[38;5;241;43m20\u001b[39;49m\u001b[43m,\u001b[49m\u001b[43m \u001b[49m\u001b[43mB\u001b[49m\u001b[43m)\u001b[49m\n",
      "Input \u001b[1;32mIn [85]\u001b[0m, in \u001b[0;36mnieme_element_while\u001b[1;34m(n, liste)\u001b[0m\n\u001b[0;32m      6\u001b[0m     cellule \u001b[38;5;241m=\u001b[39m cellule\u001b[38;5;241m.\u001b[39msuivant\n\u001b[0;32m      7\u001b[0m \u001b[38;5;28;01mif\u001b[39;00m (n\u001b[38;5;241m<\u001b[39m\u001b[38;5;241m0\u001b[39m) \u001b[38;5;129;01mor\u001b[39;00m (cellule \u001b[38;5;129;01mis\u001b[39;00m \u001b[38;5;28;01mNone\u001b[39;00m):\n\u001b[1;32m----> 8\u001b[0m     \u001b[38;5;28;01mraise\u001b[39;00m \u001b[38;5;167;01mIndexError\u001b[39;00m(\u001b[38;5;124m\"\u001b[39m\u001b[38;5;124mindice invalide\u001b[39m\u001b[38;5;124m\"\u001b[39m)\n\u001b[0;32m      9\u001b[0m \u001b[38;5;28;01mreturn\u001b[39;00m cellule\u001b[38;5;241m.\u001b[39mvaleur\n",
      "\u001b[1;31mIndexError\u001b[0m: indice invalide"
     ]
    }
   ],
   "source": [
    "nieme_element_while(20, B)"
   ]
  },
  {
   "cell_type": "markdown",
   "id": "6d1aeea1",
   "metadata": {},
   "source": [
    "— — — — — — — — — — — — — — — — — — — — — — — — — — — — — — — — — — — — — — — — — — — — — — — — —"
   ]
  },
  {
   "cell_type": "markdown",
   "id": "5b7b4b18",
   "metadata": {},
   "source": [
    "## Ex 51 : occurence(x, liste)"
   ]
  },
  {
   "cell_type": "code",
   "execution_count": 102,
   "id": "4749c665",
   "metadata": {},
   "outputs": [],
   "source": [
    "def occurence_r(x, liste):\n",
    "    if liste is None:\n",
    "        return 0\n",
    "    elif x == liste.valeur:\n",
    "        return 1 + occurence_r(x, liste.suivant)\n",
    "    else:\n",
    "        return occurence_r(x, liste.suivant)\n",
    "    \n",
    "def occurence_while(x, liste):\n",
    "    n = 0\n",
    "    cellule = liste\n",
    "    while cellule is not None:\n",
    "        if x == cellule.valeur:\n",
    "            n += 1\n",
    "        cellule = cellule.suivant\n",
    "    return n"
   ]
  },
  {
   "cell_type": "code",
   "execution_count": 106,
   "id": "caf0a389",
   "metadata": {},
   "outputs": [],
   "source": [
    "C = Cellule(2, Cellule(5, Cellule(6, Cellule(5, None))))"
   ]
  },
  {
   "cell_type": "code",
   "execution_count": 107,
   "id": "8bf3c62b",
   "metadata": {},
   "outputs": [
    {
     "data": {
      "text/plain": [
       "2"
      ]
     },
     "execution_count": 107,
     "metadata": {},
     "output_type": "execute_result"
    }
   ],
   "source": [
    "occurence_r(5, C)"
   ]
  },
  {
   "cell_type": "code",
   "execution_count": 108,
   "id": "d6ed6aa1",
   "metadata": {},
   "outputs": [
    {
     "data": {
      "text/plain": [
       "2"
      ]
     },
     "execution_count": 108,
     "metadata": {},
     "output_type": "execute_result"
    }
   ],
   "source": [
    "occurence_while(5, C)"
   ]
  },
  {
   "cell_type": "markdown",
   "id": "aadf6a5e",
   "metadata": {},
   "source": [
    "— — — — — — — — — — — — — — — — — — — — — — — — — — — — — — — — — — — — — — — — — — — — — — — — —"
   ]
  },
  {
   "cell_type": "markdown",
   "id": "f1660228",
   "metadata": {},
   "source": [
    "## Ex 52 : trouve(x, liste)"
   ]
  },
  {
   "cell_type": "code",
   "execution_count": 22,
   "id": "3e2e559f",
   "metadata": {},
   "outputs": [],
   "source": [
    "# difficile, prendre le temps de bien comprendre\n",
    "def trouve_r(x, liste):\n",
    "    if liste is None:\n",
    "        return None\n",
    "    elif liste.valeur == x:\n",
    "        return 0\n",
    "    else:\n",
    "        rang = trouve_r(x, liste.suivant)\n",
    "        if rang == None:\n",
    "            return None\n",
    "        else:\n",
    "            return 1 + rang\n",
    "\n",
    "# beaucoup plus simple à comprendre\n",
    "def trouve_while(x, liste):\n",
    "    i = 0\n",
    "    cellule = liste\n",
    "    while cellule is not None:\n",
    "        if cellule.valeur == x:\n",
    "            return i\n",
    "        cellule = cellule.suivant\n",
    "        i += 1\n",
    "    return None"
   ]
  },
  {
   "cell_type": "code",
   "execution_count": 18,
   "id": "e70b0c82",
   "metadata": {},
   "outputs": [],
   "source": [
    "D = Cellule(2, Cellule(5, Cellule(6, Cellule(5, None))))"
   ]
  },
  {
   "cell_type": "code",
   "execution_count": 19,
   "id": "e7d04b9a",
   "metadata": {},
   "outputs": [
    {
     "data": {
      "text/plain": [
       "1"
      ]
     },
     "execution_count": 19,
     "metadata": {},
     "output_type": "execute_result"
    }
   ],
   "source": [
    "trouve_r(5, D)"
   ]
  },
  {
   "cell_type": "code",
   "execution_count": 23,
   "id": "b055cf2d",
   "metadata": {},
   "outputs": [
    {
     "data": {
      "text/plain": [
       "1"
      ]
     },
     "execution_count": 23,
     "metadata": {},
     "output_type": "execute_result"
    }
   ],
   "source": [
    "trouve_while(5, D)"
   ]
  },
  {
   "cell_type": "markdown",
   "id": "f94f6152",
   "metadata": {},
   "source": [
    "— — — — — — — — — — — — — — — — — — — — — — — — — — — — — — — — — — — — — — — — — — — — — — — — —"
   ]
  },
  {
   "cell_type": "markdown",
   "id": "788ac344",
   "metadata": {},
   "source": [
    "## Ex 54 : identique(liste_1, liste_2)"
   ]
  },
  {
   "cell_type": "code",
   "execution_count": 26,
   "id": "f574d826",
   "metadata": {},
   "outputs": [],
   "source": [
    "def identique(liste_1, liste_2):\n",
    "    if liste_1 is None:\n",
    "        return liste_2 is None\n",
    "    elif liste_2 is None:\n",
    "        return liste_1 is None\n",
    "    return (liste_1.valeur == liste_2.valeur) and identique(liste_1.suivant, liste_2.suivant)"
   ]
  },
  {
   "cell_type": "code",
   "execution_count": 27,
   "id": "bbde54d9",
   "metadata": {},
   "outputs": [],
   "source": [
    "E = Cellule(2, Cellule(5, Cellule(6, Cellule(5, None))))\n",
    "F = Cellule(2, Cellule(5, Cellule(6, Cellule(5, None))))\n",
    "G = Cellule(5, Cellule(6, Cellule(5, None)))"
   ]
  },
  {
   "cell_type": "code",
   "execution_count": 28,
   "id": "f1db9014",
   "metadata": {},
   "outputs": [
    {
     "data": {
      "text/plain": [
       "True"
      ]
     },
     "execution_count": 28,
     "metadata": {},
     "output_type": "execute_result"
    }
   ],
   "source": [
    "identique(E, F)"
   ]
  },
  {
   "cell_type": "code",
   "execution_count": 29,
   "id": "f842351b",
   "metadata": {},
   "outputs": [
    {
     "data": {
      "text/plain": [
       "False"
      ]
     },
     "execution_count": 29,
     "metadata": {},
     "output_type": "execute_result"
    }
   ],
   "source": [
    "identique(E, G)"
   ]
  },
  {
   "cell_type": "markdown",
   "id": "fa025a97",
   "metadata": {},
   "source": [
    "— — — — — — — — — — — — — — — — — — — — — — — — — — — — — — — — — — — — — — — — — — — — — — — — —"
   ]
  },
  {
   "cell_type": "markdown",
   "id": "621ddc70",
   "metadata": {},
   "source": [
    "## Ex 55 : inserer(x, liste)"
   ]
  },
  {
   "cell_type": "code",
   "execution_count": 33,
   "id": "9176dc88",
   "metadata": {},
   "outputs": [],
   "source": [
    "def inserer(x, liste):\n",
    "    if (liste is None) or (x <= liste.valeur):\n",
    "        return Cellule(x, liste)\n",
    "    else:\n",
    "        return Cellule(liste.valeur, inserer(x, liste.suivant))"
   ]
  },
  {
   "cell_type": "code",
   "execution_count": 34,
   "id": "13ca5d5c",
   "metadata": {},
   "outputs": [],
   "source": [
    "H = Cellule(2, Cellule(5, Cellule(7, Cellule(9, None))))\n",
    "I = inserer(6, H)"
   ]
  },
  {
   "cell_type": "code",
   "execution_count": 37,
   "id": "317aec00",
   "metadata": {},
   "outputs": [
    {
     "name": "stdout",
     "output_type": "stream",
     "text": [
      "2 5 7 9 \n",
      "2 5 6 7 9 \n"
     ]
    }
   ],
   "source": [
    "affiche_liste_r(H)\n",
    "affiche_liste_r(I)"
   ]
  },
  {
   "cell_type": "markdown",
   "id": "2c5eac16",
   "metadata": {},
   "source": [
    "— — — — — — — — — — — — — — — — — — — — — — — — — — — — — — — — — — — — — — — — — — — — — — — — —"
   ]
  },
  {
   "cell_type": "markdown",
   "id": "8d7a7f48",
   "metadata": {},
   "source": [
    "## Ex 56 : tri_par_insertion(liste)"
   ]
  },
  {
   "cell_type": "code",
   "execution_count": 48,
   "id": "28b65c48",
   "metadata": {},
   "outputs": [],
   "source": [
    "def tri_par_insertion(liste):\n",
    "    if (liste is None) or (liste.suivant is None):\n",
    "        return liste\n",
    "    else:\n",
    "        return inserer(liste.valeur, tri_par_insertion(liste.suivant))"
   ]
  },
  {
   "cell_type": "code",
   "execution_count": 50,
   "id": "eea584b1",
   "metadata": {},
   "outputs": [
    {
     "name": "stdout",
     "output_type": "stream",
     "text": [
      "2 8 7 3 \n",
      "2 3 7 8 \n"
     ]
    }
   ],
   "source": [
    "I = Cellule(2, Cellule(8, Cellule(7, Cellule(3, None))))\n",
    "affiche_liste_r(I)\n",
    "J = tri_par_insertion(I)\n",
    "affiche_liste_r(J)"
   ]
  }
 ],
 "metadata": {
  "kernelspec": {
   "display_name": "Python 3 (ipykernel)",
   "language": "python",
   "name": "python3"
  },
  "language_info": {
   "codemirror_mode": {
    "name": "ipython",
    "version": 3
   },
   "file_extension": ".py",
   "mimetype": "text/x-python",
   "name": "python",
   "nbconvert_exporter": "python",
   "pygments_lexer": "ipython3",
   "version": "3.9.12"
  }
 },
 "nbformat": 4,
 "nbformat_minor": 5
}
