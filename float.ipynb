{
 "cells": [
  {
   "cell_type": "markdown",
   "id": "d0e6e296",
   "metadata": {},
   "source": [
    "## Float - Résumé de cours"
   ]
  },
  {
   "cell_type": "markdown",
   "id": "8c25f710",
   "metadata": {},
   "source": [
    "### 1 - la norme IEEE 754"
   ]
  },
  {
   "cell_type": "markdown",
   "id": "4b2b72e2",
   "metadata": {},
   "source": [
    "(-1)^s x m x 2^(n-d)  \n",
    "s : signe - 0 pour + - 1 pour -  \n",
    "m : mantisse ∈ [ 1 , 2 [  \n",
    "n : exposant  \n",
    "d : décalé - 127 pour 32 bits - 1023 pour 64 bits  "
   ]
  },
  {
   "cell_type": "markdown",
   "id": "8058772b",
   "metadata": {},
   "source": [
    "|   | exposant | fraction | valeur |\n",
    "| :---------------: |:---------------:| :---------------:|:---------------:|\n",
    "| 32 bits  | 8 bits | 23 bits | (-1)^s x 1,f x 2^(e-127) |\n",
    "| 64 bits  | 11 bits |   52 bits | (-1)^s x 1,f x 2^(e-1023) |\n"
   ]
  },
  {
   "cell_type": "markdown",
   "id": "ca578caf",
   "metadata": {},
   "source": [
    "sachant que : matisse = 1, xxxxx.... où xxxx.... est la fraction"
   ]
  },
  {
   "cell_type": "markdown",
   "id": "c86a3b4c",
   "metadata": {},
   "source": [
    "valeurs spéciales :  \n",
    "| signe | exposant | fraction | valeur spéciale |\n",
    "| :---------------: |:---------------:| :---------------:|:---------------:|\n",
    "| 0  | 0 | 0 | + 0 |\n",
    "| 1  | 0 | 0 | - 0 |\n",
    "| 0  | 255 | 0 | + ∞ |\n",
    "| 1  | 255 | 0 | + ∞ |\n",
    "| 0  | 255 | ≠ 0 | NaN |"
   ]
  },
  {
   "cell_type": "markdown",
   "id": "31b4b054",
   "metadata": {},
   "source": [
    "### 2 - les floats dans python"
   ]
  },
  {
   "cell_type": "markdown",
   "id": "8596042d",
   "metadata": {},
   "source": [
    "python est sur 64 bits"
   ]
  },
  {
   "cell_type": "code",
   "execution_count": 1,
   "id": "a164babd",
   "metadata": {},
   "outputs": [
    {
     "data": {
      "text/plain": [
       "-4.0"
      ]
     },
     "execution_count": 1,
     "metadata": {},
     "output_type": "execute_result"
    }
   ],
   "source": [
    "float(-4)"
   ]
  },
  {
   "cell_type": "code",
   "execution_count": 5,
   "id": "99b715b4",
   "metadata": {},
   "outputs": [
    {
     "data": {
      "text/plain": [
       "5"
      ]
     },
     "execution_count": 5,
     "metadata": {},
     "output_type": "execute_result"
    }
   ],
   "source": [
    "int(5.9)     # attention, ne fait pas l'arrondi => ignore la partie après la virgule"
   ]
  },
  {
   "cell_type": "code",
   "execution_count": 6,
   "id": "e61e97bf",
   "metadata": {},
   "outputs": [
    {
     "data": {
      "text/plain": [
       "-5"
      ]
     },
     "execution_count": 6,
     "metadata": {},
     "output_type": "execute_result"
    }
   ],
   "source": [
    "int(-5.9)"
   ]
  },
  {
   "cell_type": "code",
   "execution_count": 7,
   "id": "9ee255f0",
   "metadata": {},
   "outputs": [
    {
     "data": {
      "text/plain": [
       "int"
      ]
     },
     "execution_count": 7,
     "metadata": {},
     "output_type": "execute_result"
    }
   ],
   "source": [
    "type(1+2)"
   ]
  },
  {
   "cell_type": "code",
   "execution_count": 9,
   "id": "ced8489a",
   "metadata": {},
   "outputs": [
    {
     "data": {
      "text/plain": [
       "int"
      ]
     },
     "execution_count": 9,
     "metadata": {},
     "output_type": "execute_result"
    }
   ],
   "source": [
    "type(2*2)"
   ]
  },
  {
   "cell_type": "code",
   "execution_count": 10,
   "id": "284e0c97",
   "metadata": {},
   "outputs": [
    {
     "data": {
      "text/plain": [
       "float"
      ]
     },
     "execution_count": 10,
     "metadata": {},
     "output_type": "execute_result"
    }
   ],
   "source": [
    "type(2/2)         # le type associé à une division est toujours un float"
   ]
  },
  {
   "cell_type": "code",
   "execution_count": 11,
   "id": "32820b93",
   "metadata": {},
   "outputs": [],
   "source": [
    "x = 1e200"
   ]
  },
  {
   "cell_type": "code",
   "execution_count": 12,
   "id": "4fb78b41",
   "metadata": {},
   "outputs": [
    {
     "data": {
      "text/plain": [
       "inf"
      ]
     },
     "execution_count": 12,
     "metadata": {},
     "output_type": "execute_result"
    }
   ],
   "source": [
    "x*x               # valeur spéciale"
   ]
  },
  {
   "cell_type": "code",
   "execution_count": 13,
   "id": "5e432b71",
   "metadata": {},
   "outputs": [
    {
     "data": {
      "text/plain": [
       "nan"
      ]
     },
     "execution_count": 13,
     "metadata": {},
     "output_type": "execute_result"
    }
   ],
   "source": [
    "x*x*0             # valeur spéciale"
   ]
  },
  {
   "cell_type": "code",
   "execution_count": 14,
   "id": "2be1845f",
   "metadata": {},
   "outputs": [
    {
     "data": {
      "text/plain": [
       "0.0"
      ]
     },
     "execution_count": 14,
     "metadata": {},
     "output_type": "execute_result"
    }
   ],
   "source": [
    "x*(x*0)"
   ]
  },
  {
   "cell_type": "code",
   "execution_count": 16,
   "id": "d69151ce",
   "metadata": {},
   "outputs": [
    {
     "data": {
      "text/plain": [
       "'0.10000000000000000555111512312578270211815834045410156250000000000000000000000000'"
      ]
     },
     "execution_count": 16,
     "metadata": {},
     "output_type": "execute_result"
    }
   ],
   "source": [
    "f\"{0.1:.80f}\"      # affiche un float avec une précision choisie"
   ]
  },
  {
   "cell_type": "markdown",
   "id": "802d69f8",
   "metadata": {},
   "source": [
    "### 3 - propriétés des floats"
   ]
  },
  {
   "cell_type": "code",
   "execution_count": 18,
   "id": "ff28dafb",
   "metadata": {},
   "outputs": [
    {
     "data": {
      "text/plain": [
       "3.5999999999999996"
      ]
     },
     "execution_count": 18,
     "metadata": {},
     "output_type": "execute_result"
    }
   ],
   "source": [
    "1.2*3    # attention aux arrondis (stockage en base 2)"
   ]
  },
  {
   "cell_type": "code",
   "execution_count": 20,
   "id": "09b967ac",
   "metadata": {},
   "outputs": [
    {
     "name": "stdout",
     "output_type": "stream",
     "text": [
      "6.5\n",
      "6.500000000000001\n"
     ]
    }
   ],
   "source": [
    "print( 1.6 + (3.2 + 1.7) )    # attention aux priorités opératoires\n",
    "print( (1.6 + 3.2) + 1.7 )    # l'addition et la multiplication ne sont pas associatives"
   ]
  },
  {
   "cell_type": "code",
   "execution_count": 21,
   "id": "4ae59430",
   "metadata": {},
   "outputs": [
    {
     "name": "stdout",
     "output_type": "stream",
     "text": [
      "6.8999999999999995\n",
      "6.9\n"
     ]
    }
   ],
   "source": [
    "print( 1.5 * (3.2 + 1.4) )    # attention aux priorités opératoires\n",
    "print( 1.5*3.2 + 1.5*1.4 )    # la multiplication n'eest pas distributive par rapport à l'addition"
   ]
  },
  {
   "cell_type": "code",
   "execution_count": 22,
   "id": "0c7e20a5",
   "metadata": {},
   "outputs": [
    {
     "data": {
      "text/plain": [
       "False"
      ]
     },
     "execution_count": 22,
     "metadata": {},
     "output_type": "execute_result"
    }
   ],
   "source": [
    "0.1 + 0.2 == 0.3              # un classique"
   ]
  },
  {
   "cell_type": "markdown",
   "id": "f3aebd36",
   "metadata": {},
   "source": [
    "### 4 - exercices p 259 et p260"
   ]
  }
 ],
 "metadata": {
  "kernelspec": {
   "display_name": "Python 3 (ipykernel)",
   "language": "python",
   "name": "python3"
  },
  "language_info": {
   "codemirror_mode": {
    "name": "ipython",
    "version": 3
   },
   "file_extension": ".py",
   "mimetype": "text/x-python",
   "name": "python",
   "nbconvert_exporter": "python",
   "pygments_lexer": "ipython3",
   "version": "3.9.18"
  }
 },
 "nbformat": 4,
 "nbformat_minor": 5
}
