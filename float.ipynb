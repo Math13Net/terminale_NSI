{
 "cells": [
  {
   "cell_type": "markdown",
   "id": "a7acb102",
   "metadata": {},
   "source": [
    "## Float - Résumé de cours"
   ]
  },
  {
   "cell_type": "markdown",
   "id": "60be4a95",
   "metadata": {},
   "source": [
    "### 1 - la norme IEEE 754"
   ]
  },
  {
   "cell_type": "markdown",
   "id": "19b8b9ed",
   "metadata": {},
   "source": [
    "(-1)^s x m x 2^(n-d)  \n",
    "s : signe - 0 pour + - 1 pour -  \n",
    "m : mantisse ∈ [ 1 , 2 [  \n",
    "n : exposant  \n",
    "d : décalé - 127 pour 32 bits - 1023 pour 64 bits  "
   ]
  },
  {
   "cell_type": "markdown",
   "id": "aa65da3f",
   "metadata": {},
   "source": [
    "|   | exposant | fraction | valeur |\n",
    "| :---------------: |:---------------:| :---------------:|:---------------:|\n",
    "| 32 bits  | 8 bits | 23 bits | (-1)^s x 1,f x 2^(e-127) |\n",
    "| 64 bits  | 11 bits |   52 bits | (-1)^s x 1,f x 2^(e-1023) |\n"
   ]
  },
  {
   "cell_type": "markdown",
   "id": "511ac56d",
   "metadata": {},
   "source": [
    "sachant que : matisse = 1, xxxxx.... où xxxx.... est la fraction"
   ]
  },
  {
   "cell_type": "markdown",
   "id": "8f65f5da",
   "metadata": {},
   "source": [
    "valeurs spéciales :  \n",
    "| signe | exposant | fraction | valeur spéciale |\n",
    "| :---------------: |:---------------:| :---------------:|:---------------:|\n",
    "| 0  | 0 | 0 | + 0 |\n",
    "| 1  | 0 | 0 | - 0 |\n",
    "| 0  | 255 | 0 | + ∞ |\n",
    "| 1  | 255 | 0 | + ∞ |\n",
    "| 0  | 255 | ≠ 0 | NaN |"
   ]
  },
  {
   "cell_type": "markdown",
   "id": "8699441c",
   "metadata": {},
   "source": [
    "### 2 - les floats dans python"
   ]
  },
  {
   "cell_type": "markdown",
   "id": "09a3add4",
   "metadata": {},
   "source": [
    "python est sur 64 bits"
   ]
  },
  {
   "cell_type": "code",
   "execution_count": 1,
   "id": "264f8876",
   "metadata": {},
   "outputs": [
    {
     "data": {
      "text/plain": [
       "-4.0"
      ]
     },
     "execution_count": 1,
     "metadata": {},
     "output_type": "execute_result"
    }
   ],
   "source": [
    "float(-4)"
   ]
  },
  {
   "cell_type": "code",
   "execution_count": 5,
   "id": "3db4b300",
   "metadata": {},
   "outputs": [
    {
     "data": {
      "text/plain": [
       "5"
      ]
     },
     "execution_count": 5,
     "metadata": {},
     "output_type": "execute_result"
    }
   ],
   "source": [
    "int(5.9)     # attention, ne fait pas l'arrondi => ignore la partie après la virgule"
   ]
  },
  {
   "cell_type": "code",
   "execution_count": 6,
   "id": "60000d33",
   "metadata": {},
   "outputs": [
    {
     "data": {
      "text/plain": [
       "-5"
      ]
     },
     "execution_count": 6,
     "metadata": {},
     "output_type": "execute_result"
    }
   ],
   "source": [
    "int(-5.9)"
   ]
  },
  {
   "cell_type": "code",
   "execution_count": 7,
   "id": "b3ef17dc",
   "metadata": {},
   "outputs": [
    {
     "data": {
      "text/plain": [
       "int"
      ]
     },
     "execution_count": 7,
     "metadata": {},
     "output_type": "execute_result"
    }
   ],
   "source": [
    "type(1+2)"
   ]
  },
  {
   "cell_type": "code",
   "execution_count": 9,
   "id": "c4806f7f",
   "metadata": {},
   "outputs": [
    {
     "data": {
      "text/plain": [
       "int"
      ]
     },
     "execution_count": 9,
     "metadata": {},
     "output_type": "execute_result"
    }
   ],
   "source": [
    "type(2*2)"
   ]
  },
  {
   "cell_type": "code",
   "execution_count": 10,
   "id": "a675f8bc",
   "metadata": {},
   "outputs": [
    {
     "data": {
      "text/plain": [
       "float"
      ]
     },
     "execution_count": 10,
     "metadata": {},
     "output_type": "execute_result"
    }
   ],
   "source": [
    "type(2/2)         # le type associé à une division est toujours un float"
   ]
  },
  {
   "cell_type": "code",
   "execution_count": 11,
   "id": "dafc0d2b",
   "metadata": {},
   "outputs": [],
   "source": [
    "x = 1e200"
   ]
  },
  {
   "cell_type": "code",
   "execution_count": 12,
   "id": "9baf1568",
   "metadata": {},
   "outputs": [
    {
     "data": {
      "text/plain": [
       "inf"
      ]
     },
     "execution_count": 12,
     "metadata": {},
     "output_type": "execute_result"
    }
   ],
   "source": [
    "x*x               # valeur spéciale"
   ]
  },
  {
   "cell_type": "code",
   "execution_count": 13,
   "id": "421e5fc3",
   "metadata": {},
   "outputs": [
    {
     "data": {
      "text/plain": [
       "nan"
      ]
     },
     "execution_count": 13,
     "metadata": {},
     "output_type": "execute_result"
    }
   ],
   "source": [
    "x*x*0             # valeur spéciale"
   ]
  },
  {
   "cell_type": "code",
   "execution_count": 14,
   "id": "f061d7d8",
   "metadata": {},
   "outputs": [
    {
     "data": {
      "text/plain": [
       "0.0"
      ]
     },
     "execution_count": 14,
     "metadata": {},
     "output_type": "execute_result"
    }
   ],
   "source": [
    "x*(x*0)"
   ]
  },
  {
   "cell_type": "code",
   "execution_count": 16,
   "id": "7fce56f3",
   "metadata": {},
   "outputs": [
    {
     "data": {
      "text/plain": [
       "'0.10000000000000000555111512312578270211815834045410156250000000000000000000000000'"
      ]
     },
     "execution_count": 16,
     "metadata": {},
     "output_type": "execute_result"
    }
   ],
   "source": [
    "f\"{0.1:.80f}\"      # affiche un float avec une précision choisie"
   ]
  },
  {
   "cell_type": "markdown",
   "id": "f02414a2",
   "metadata": {},
   "source": [
    "### 3 - propriétés des floats"
   ]
  },
  {
   "cell_type": "code",
   "execution_count": 18,
   "id": "d3a222d9",
   "metadata": {},
   "outputs": [
    {
     "data": {
      "text/plain": [
       "3.5999999999999996"
      ]
     },
     "execution_count": 18,
     "metadata": {},
     "output_type": "execute_result"
    }
   ],
   "source": [
    "1.2*3    # attention aux arrondis (stockage en base 2)"
   ]
  },
  {
   "cell_type": "code",
   "execution_count": 20,
   "id": "c1ad2ab3",
   "metadata": {},
   "outputs": [
    {
     "name": "stdout",
     "output_type": "stream",
     "text": [
      "6.5\n",
      "6.500000000000001\n"
     ]
    }
   ],
   "source": [
    "print( 1.6 + (3.2 + 1.7) )    # attention aux priorités opératoires\n",
    "print( (1.6 + 3.2) + 1.7 )    # l'addition et la multiplication ne sont pas associatives"
   ]
  },
  {
   "cell_type": "code",
   "execution_count": 21,
   "id": "909af872",
   "metadata": {},
   "outputs": [
    {
     "name": "stdout",
     "output_type": "stream",
     "text": [
      "6.8999999999999995\n",
      "6.9\n"
     ]
    }
   ],
   "source": [
    "print( 1.5 * (3.2 + 1.4) )    # attention aux priorités opératoires\n",
    "print( 1.5*3.2 + 1.5*1.4 )    # la multiplication n'eest pas distributive par rapport à l'addition"
   ]
  },
  {
   "cell_type": "code",
   "execution_count": 22,
   "id": "bc80d91b",
   "metadata": {},
   "outputs": [
    {
     "data": {
      "text/plain": [
       "False"
      ]
     },
     "execution_count": 22,
     "metadata": {},
     "output_type": "execute_result"
    }
   ],
   "source": [
    "0.1 + 0.2 == 0.3              # un classique"
   ]
  },
  {
   "cell_type": "markdown",
   "id": "7c9775a0",
   "metadata": {},
   "source": [
    "### 4 - exercices p 259 et p260"
   ]
  },
  {
   "cell_type": "markdown",
   "id": "c4eda6e9",
   "metadata": {},
   "source": [
    "### 5 - lecture complémentaire : https://jvns.ca/blog/2023/02/08/why-does-0-1-plus-0-2-equal-0-30000000000000004/"
   ]
  }
 ],
 "metadata": {
  "kernelspec": {
   "display_name": "Python 3 (ipykernel)",
   "language": "python",
   "name": "python3"
  },
  "language_info": {
   "codemirror_mode": {
    "name": "ipython",
    "version": 3
   },
   "file_extension": ".py",
   "mimetype": "text/x-python",
   "name": "python",
   "nbconvert_exporter": "python",
   "pygments_lexer": "ipython3",
   "version": "3.9.18"
  }
 },
 "nbformat": 4,
 "nbformat_minor": 5
}
