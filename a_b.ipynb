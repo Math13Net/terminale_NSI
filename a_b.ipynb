{
 "cells": [
  {
   "cell_type": "markdown",
   "id": "b719be1f",
   "metadata": {},
   "source": [
    "# Arbre Binaire - Cours"
   ]
  },
  {
   "cell_type": "markdown",
   "id": "e390e046",
   "metadata": {},
   "source": [
    "## Ex 1 : classe Noeud"
   ]
  },
  {
   "cell_type": "code",
   "execution_count": 7,
   "id": "dc75c68c",
   "metadata": {},
   "outputs": [],
   "source": [
    "class Noeud:\n",
    "    \"\"\"un noeud d'un arbre binaire\"\"\"\n",
    "    def __init__(self, g, v, d):\n",
    "        self.gauche = g\n",
    "        self.valeur = v\n",
    "        self.droit  = d"
   ]
  },
  {
   "cell_type": "code",
   "execution_count": 6,
   "id": "ff5fa2c5",
   "metadata": {},
   "outputs": [],
   "source": [
    "a = Noeud(Noeud(None, \"B\", Noeud(None, \"C\", None)), \"A\", Noeud(None, \"D\", None))"
   ]
  },
  {
   "cell_type": "markdown",
   "id": "8e9c7189",
   "metadata": {},
   "source": [
    "<u>important</u> : on prendra le temps de représenter par un dessin l'AB a (ce qui n' rien d'évident)"
   ]
  },
  {
   "cell_type": "markdown",
   "id": "58459903",
   "metadata": {},
   "source": [
    "## Ex 2 : taille et hauteur d'un AB"
   ]
  },
  {
   "cell_type": "code",
   "execution_count": 8,
   "id": "4a34f455",
   "metadata": {},
   "outputs": [],
   "source": [
    "def taille(a):\n",
    "    \"\"\"le nombre de noeuds de l'arbre a\"\"\"\n",
    "    if a is None:\n",
    "        return 0\n",
    "    else:\n",
    "        return 1 + taille(a.gauche) + taille(a.droit)\n",
    "\n",
    "def hauteur(a):\n",
    "    \"\"\"la hauteur de l'arbre a\"\"\"\n",
    "    if a is None:\n",
    "        return 0\n",
    "    else:\n",
    "        return 1 + max(hauteur(a.gauche), hauteur(a.droit))"
   ]
  },
  {
   "cell_type": "code",
   "execution_count": 8,
   "id": "617ebed8",
   "metadata": {},
   "outputs": [
    {
     "data": {
      "text/plain": [
       "4"
      ]
     },
     "execution_count": 8,
     "metadata": {},
     "output_type": "execute_result"
    }
   ],
   "source": [
    "taille(a)"
   ]
  },
  {
   "cell_type": "code",
   "execution_count": 9,
   "id": "c5e8bc71",
   "metadata": {},
   "outputs": [
    {
     "data": {
      "text/plain": [
       "3"
      ]
     },
     "execution_count": 9,
     "metadata": {},
     "output_type": "execute_result"
    }
   ],
   "source": [
    "hauteur(a)"
   ]
  },
  {
   "cell_type": "markdown",
   "id": "727b7421",
   "metadata": {},
   "source": [
    "## Ex 2 : parcours d'un AB \"par infixe\""
   ]
  },
  {
   "cell_type": "code",
   "execution_count": 10,
   "id": "0d2cd30a",
   "metadata": {},
   "outputs": [],
   "source": [
    "def parcours_infixe(a):\n",
    "    \"\"\"affiche les éléments de a dans un parcours infixe\"\"\"\n",
    "    if a is None:\n",
    "        return\n",
    "    parcours_infixe(a.gauche)\n",
    "    print(a.valeur)\n",
    "    parcours_infixe(a.droit)"
   ]
  },
  {
   "cell_type": "code",
   "execution_count": 11,
   "id": "73216ca1",
   "metadata": {},
   "outputs": [
    {
     "name": "stdout",
     "output_type": "stream",
     "text": [
      "B\n",
      "C\n",
      "A\n",
      "D\n"
     ]
    }
   ],
   "source": [
    "parcours_infixe(a)"
   ]
  },
  {
   "cell_type": "markdown",
   "id": "0eb59c86",
   "metadata": {},
   "source": [
    "— — — — — — — — — — — — — — — — — — — — — — — — — — — — — — — — — — — — — — — — — — — — — — — — —"
   ]
  },
  {
   "cell_type": "markdown",
   "id": "b1796796",
   "metadata": {},
   "source": [
    "# Arbre Binaire - Exercices"
   ]
  },
  {
   "cell_type": "code",
   "execution_count": 19,
   "id": "45cff785",
   "metadata": {},
   "outputs": [
    {
     "data": {
      "text/plain": [
       "3"
      ]
     },
     "execution_count": 19,
     "metadata": {},
     "output_type": "execute_result"
    }
   ],
   "source": [
    "A = Pile()\n",
    "A.empiler(10)\n",
    "A.empiler(12)\n",
    "A.empiler(8)\n",
    "A.taille()"
   ]
  },
  {
   "cell_type": "markdown",
   "id": "b5d1dc40",
   "metadata": {},
   "source": [
    "— — — — — — — — — — — — — — — — — — — — — — — — — — — — — — — — — — — — — — — — — — — — — — — — —"
   ]
  },
  {
   "cell_type": "markdown",
   "id": "d0543412",
   "metadata": {},
   "source": [
    "## Ex 72 : "
   ]
  },
  {
   "cell_type": "code",
   "execution_count": 9,
   "id": "08733594",
   "metadata": {},
   "outputs": [],
   "source": [
    "def affiche(a):\n",
    "    if a is None:\n",
    "        return\n",
    "    print(\"(\", end=\"\")\n",
    "    affiche(a.gauche)\n",
    "    print(a.valeur, end=\"\")\n",
    "    affiche(a.droit)\n",
    "    print(\")\", end=\"\")"
   ]
  },
  {
   "cell_type": "code",
   "execution_count": 10,
   "id": "7252cf26",
   "metadata": {},
   "outputs": [],
   "source": [
    "a = Noeud(Noeud(None, \"B\", Noeud(None, \"C\", None)), \"A\", Noeud(None, \"D\", None))"
   ]
  },
  {
   "cell_type": "code",
   "execution_count": 11,
   "id": "b377074a",
   "metadata": {},
   "outputs": [
    {
     "name": "stdout",
     "output_type": "stream",
     "text": [
      "((B(C))A(D))"
     ]
    }
   ],
   "source": [
    "affiche(a)"
   ]
  },
  {
   "cell_type": "markdown",
   "id": "06c40258",
   "metadata": {},
   "source": [
    "## Ex 74 : égalité d'AB"
   ]
  },
  {
   "cell_type": "code",
   "execution_count": null,
   "id": "e538ff30",
   "metadata": {},
   "outputs": [],
   "source": [
    "class Noeud:\n",
    "    \"\"\"un noeud d'un arbre binaire\"\"\"\n",
    "    def __init__(self, g, v, d):\n",
    "        self.gauche = g\n",
    "        self.valeur = v\n",
    "        self.droit  = d\n",
    "        \n",
    "    def egalite(self, n):\n",
    "        return (n is not None) and (self.gauche == n.gauche) and (self.valeur == n.valeur) and (self.droit == n.droit)"
   ]
  },
  {
   "cell_type": "markdown",
   "id": "67810282",
   "metadata": {},
   "source": [
    "## Ex 75 : AB parfait"
   ]
  },
  {
   "cell_type": "code",
   "execution_count": 12,
   "id": "f06e7d54",
   "metadata": {},
   "outputs": [],
   "source": [
    "def parfait(h):\n",
    "    \"\"\"construit un AB parfait de hauteur h\"\"\"\n",
    "    if h == 0:\n",
    "        return None\n",
    "    return Noeud(parfait(h-1), h, parfait(h-1))"
   ]
  },
  {
   "cell_type": "code",
   "execution_count": 13,
   "id": "b5121f13",
   "metadata": {},
   "outputs": [],
   "source": [
    "b = parfait(5)"
   ]
  },
  {
   "cell_type": "code",
   "execution_count": 14,
   "id": "e6f3115c",
   "metadata": {},
   "outputs": [
    {
     "name": "stdout",
     "output_type": "stream",
     "text": [
      "(((((1)2(1))3((1)2(1)))4(((1)2(1))3((1)2(1))))5((((1)2(1))3((1)2(1)))4(((1)2(1))3((1)2(1)))))"
     ]
    }
   ],
   "source": [
    "affiche(b)"
   ]
  },
  {
   "cell_type": "markdown",
   "id": "c6da53d9",
   "metadata": {},
   "source": [
    "## Ex 76 : AB parfait"
   ]
  },
  {
   "cell_type": "code",
   "execution_count": 15,
   "id": "1170814a",
   "metadata": {},
   "outputs": [],
   "source": [
    "def peigne_gauche(h):\n",
    "    \"\"\"construit un peigne gauche de hauteur h\"\"\"\n",
    "    a = None\n",
    "    while h>0:\n",
    "        a = Noeud(a, h, None)\n",
    "        h -= 1\n",
    "    return a"
   ]
  },
  {
   "cell_type": "code",
   "execution_count": 17,
   "id": "f1d38911",
   "metadata": {},
   "outputs": [],
   "source": [
    "c = peigne_gauche(5)"
   ]
  },
  {
   "cell_type": "code",
   "execution_count": 18,
   "id": "52bf7938",
   "metadata": {},
   "outputs": [
    {
     "name": "stdout",
     "output_type": "stream",
     "text": [
      "(((((5)4)3)2)1)"
     ]
    }
   ],
   "source": [
    "affiche(c)"
   ]
  },
  {
   "cell_type": "markdown",
   "id": "cfe89346",
   "metadata": {},
   "source": [
    "## Ex 77 : AB parfait"
   ]
  },
  {
   "cell_type": "code",
   "execution_count": 19,
   "id": "7617a05a",
   "metadata": {},
   "outputs": [],
   "source": [
    "def est_peigne_gauche(a):\n",
    "    if a is None:\n",
    "        return True\n",
    "    if not a.droit is None:\n",
    "        return False\n",
    "    return est_peigne_gauche(a.gauche)"
   ]
  },
  {
   "cell_type": "code",
   "execution_count": 22,
   "id": "e22bd63f",
   "metadata": {},
   "outputs": [],
   "source": [
    "d = parfait(5)\n",
    "e = peigne_gauche(5)\n",
    "f = Noeud(Noeud(None, \"B\", Noeud(None, \"C\", None)), \"A\", Noeud(None, \"D\", None))"
   ]
  },
  {
   "cell_type": "code",
   "execution_count": 23,
   "id": "6499fd1b",
   "metadata": {},
   "outputs": [
    {
     "name": "stdout",
     "output_type": "stream",
     "text": [
      "False\n",
      "True\n",
      "False\n"
     ]
    }
   ],
   "source": [
    "print(est_peigne_gauche(d))\n",
    "print(est_peigne_gauche(e))\n",
    "print(est_peigne_gauche(f))"
   ]
  }
 ],
 "metadata": {
  "kernelspec": {
   "display_name": "Python 3 (ipykernel)",
   "language": "python",
   "name": "python3"
  },
  "language_info": {
   "codemirror_mode": {
    "name": "ipython",
    "version": 3
   },
   "file_extension": ".py",
   "mimetype": "text/x-python",
   "name": "python",
   "nbconvert_exporter": "python",
   "pygments_lexer": "ipython3",
   "version": "3.9.12"
  }
 },
 "nbformat": 4,
 "nbformat_minor": 5
}
